{
 "cells": [
  {
   "cell_type": "markdown",
   "metadata": {},
   "source": [
    "# Tyler's Workspace"
   ]
  },
  {
   "cell_type": "code",
   "execution_count": 1,
   "metadata": {},
   "outputs": [],
   "source": [
    "# imports we need for the notebook\n",
    "import pandas as pd\n",
    "import numpy as np\n",
    "import matplotlib.pyplot as plt\n",
    "import seaborn as sns\n",
    "from sklearn.model_selection import train_test_split, GridSearchCV, cross_val_score\n",
    "from sklearn.preprocessing import OneHotEncoder, RobustScaler, FunctionTransformer\n",
    "from sklearn.dummy import DummyClassifier\n",
    "from sklearn.compose import ColumnTransformer\n",
    "from sklearn.pipeline import Pipeline\n",
    "from sklearn.tree import DecisionTreeClassifier\n",
    "from sklearn.impute import SimpleImputer\n",
    "from sklearn.ensemble import RandomForestClassifier, GradientBoostingClassifier\n",
    "from sklearn.metrics import accuracy_score, confusion_matrix"
   ]
  },
  {
   "cell_type": "markdown",
   "metadata": {},
   "source": [
    "# Business Understanding"
   ]
  },
  {
   "cell_type": "markdown",
   "metadata": {},
   "source": [
    "Water scarcity"
   ]
  },
  {
   "cell_type": "code",
   "execution_count": 2,
   "metadata": {},
   "outputs": [],
   "source": [
    "# change display to show all columns of the dataframe\n",
    "pd.set_option('display.max_columns', None)"
   ]
  },
  {
   "cell_type": "code",
   "execution_count": null,
   "metadata": {},
   "outputs": [],
   "source": [
    "# here we have the features provided to us\n",
    "X = pd.read_csv('data/TrainingFeatures.csv', parse_dates=[2])\n",
    "X.head()"
   ]
  },
  {
   "cell_type": "code",
   "execution_count": 4,
   "metadata": {
    "scrolled": false
   },
   "outputs": [
    {
     "data": {
      "text/html": [
       "<div>\n",
       "<style scoped>\n",
       "    .dataframe tbody tr th:only-of-type {\n",
       "        vertical-align: middle;\n",
       "    }\n",
       "\n",
       "    .dataframe tbody tr th {\n",
       "        vertical-align: top;\n",
       "    }\n",
       "\n",
       "    .dataframe thead th {\n",
       "        text-align: right;\n",
       "    }\n",
       "</style>\n",
       "<table border=\"1\" class=\"dataframe\">\n",
       "  <thead>\n",
       "    <tr style=\"text-align: right;\">\n",
       "      <th></th>\n",
       "      <th>id</th>\n",
       "      <th>status_group</th>\n",
       "    </tr>\n",
       "  </thead>\n",
       "  <tbody>\n",
       "    <tr>\n",
       "      <th>0</th>\n",
       "      <td>69572</td>\n",
       "      <td>functional</td>\n",
       "    </tr>\n",
       "    <tr>\n",
       "      <th>1</th>\n",
       "      <td>8776</td>\n",
       "      <td>functional</td>\n",
       "    </tr>\n",
       "    <tr>\n",
       "      <th>2</th>\n",
       "      <td>34310</td>\n",
       "      <td>functional</td>\n",
       "    </tr>\n",
       "    <tr>\n",
       "      <th>3</th>\n",
       "      <td>67743</td>\n",
       "      <td>non functional</td>\n",
       "    </tr>\n",
       "    <tr>\n",
       "      <th>4</th>\n",
       "      <td>19728</td>\n",
       "      <td>functional</td>\n",
       "    </tr>\n",
       "    <tr>\n",
       "      <th>...</th>\n",
       "      <td>...</td>\n",
       "      <td>...</td>\n",
       "    </tr>\n",
       "    <tr>\n",
       "      <th>59395</th>\n",
       "      <td>60739</td>\n",
       "      <td>functional</td>\n",
       "    </tr>\n",
       "    <tr>\n",
       "      <th>59396</th>\n",
       "      <td>27263</td>\n",
       "      <td>functional</td>\n",
       "    </tr>\n",
       "    <tr>\n",
       "      <th>59397</th>\n",
       "      <td>37057</td>\n",
       "      <td>functional</td>\n",
       "    </tr>\n",
       "    <tr>\n",
       "      <th>59398</th>\n",
       "      <td>31282</td>\n",
       "      <td>functional</td>\n",
       "    </tr>\n",
       "    <tr>\n",
       "      <th>59399</th>\n",
       "      <td>26348</td>\n",
       "      <td>functional</td>\n",
       "    </tr>\n",
       "  </tbody>\n",
       "</table>\n",
       "<p>59400 rows × 2 columns</p>\n",
       "</div>"
      ],
      "text/plain": [
       "          id    status_group\n",
       "0      69572      functional\n",
       "1       8776      functional\n",
       "2      34310      functional\n",
       "3      67743  non functional\n",
       "4      19728      functional\n",
       "...      ...             ...\n",
       "59395  60739      functional\n",
       "59396  27263      functional\n",
       "59397  37057      functional\n",
       "59398  31282      functional\n",
       "59399  26348      functional\n",
       "\n",
       "[59400 rows x 2 columns]"
      ]
     },
     "execution_count": 4,
     "metadata": {},
     "output_type": "execute_result"
    }
   ],
   "source": [
    "# and the target values with matching index and id\n",
    "y = pd.read_csv('data/TrainingLabels.csv')\n",
    "y.head()"
   ]
  },
  {
   "cell_type": "markdown",
   "metadata": {},
   "source": [
    "## Data Exploration"
   ]
  },
  {
   "cell_type": "code",
   "execution_count": 5,
   "metadata": {
    "scrolled": false
   },
   "outputs": [
    {
     "name": "stdout",
     "output_type": "stream",
     "text": [
      "<class 'pandas.core.frame.DataFrame'>\n",
      "RangeIndex: 59400 entries, 0 to 59399\n",
      "Data columns (total 40 columns):\n",
      " #   Column                 Non-Null Count  Dtype         \n",
      "---  ------                 --------------  -----         \n",
      " 0   id                     59400 non-null  int64         \n",
      " 1   amount_tsh             59400 non-null  float64       \n",
      " 2   date_recorded          59400 non-null  datetime64[ns]\n",
      " 3   funder                 55765 non-null  object        \n",
      " 4   gps_height             59400 non-null  int64         \n",
      " 5   installer              55745 non-null  object        \n",
      " 6   longitude              59400 non-null  float64       \n",
      " 7   latitude               59400 non-null  float64       \n",
      " 8   wpt_name               59400 non-null  object        \n",
      " 9   num_private            59400 non-null  int64         \n",
      " 10  basin                  59400 non-null  object        \n",
      " 11  subvillage             59029 non-null  object        \n",
      " 12  region                 59400 non-null  object        \n",
      " 13  region_code            59400 non-null  int64         \n",
      " 14  district_code          59400 non-null  int64         \n",
      " 15  lga                    59400 non-null  object        \n",
      " 16  ward                   59400 non-null  object        \n",
      " 17  population             59400 non-null  int64         \n",
      " 18  public_meeting         56066 non-null  object        \n",
      " 19  recorded_by            59400 non-null  object        \n",
      " 20  scheme_management      55523 non-null  object        \n",
      " 21  scheme_name            31234 non-null  object        \n",
      " 22  permit                 56344 non-null  object        \n",
      " 23  construction_year      59400 non-null  int64         \n",
      " 24  extraction_type        59400 non-null  object        \n",
      " 25  extraction_type_group  59400 non-null  object        \n",
      " 26  extraction_type_class  59400 non-null  object        \n",
      " 27  management             59400 non-null  object        \n",
      " 28  management_group       59400 non-null  object        \n",
      " 29  payment                59400 non-null  object        \n",
      " 30  payment_type           59400 non-null  object        \n",
      " 31  water_quality          59400 non-null  object        \n",
      " 32  quality_group          59400 non-null  object        \n",
      " 33  quantity               59400 non-null  object        \n",
      " 34  quantity_group         59400 non-null  object        \n",
      " 35  source                 59400 non-null  object        \n",
      " 36  source_type            59400 non-null  object        \n",
      " 37  source_class           59400 non-null  object        \n",
      " 38  waterpoint_type        59400 non-null  object        \n",
      " 39  waterpoint_type_group  59400 non-null  object        \n",
      "dtypes: datetime64[ns](1), float64(3), int64(7), object(29)\n",
      "memory usage: 18.1+ MB\n"
     ]
    }
   ],
   "source": [
    "# the data is mostly clean, but some variables do have several missing values, let's look into them\n",
    "X.info()"
   ]
  },
  {
   "cell_type": "markdown",
   "metadata": {},
   "source": [
    "### Missing Values"
   ]
  },
  {
   "cell_type": "code",
   "execution_count": 6,
   "metadata": {
    "scrolled": true
   },
   "outputs": [
    {
     "data": {
      "text/plain": [
       "Government Of Tanzania    9084\n",
       "Danida                    3114\n",
       "Hesawa                    2202\n",
       "Rwssp                     1374\n",
       "World Bank                1349\n",
       "                          ... \n",
       "Msikiti Masji                1\n",
       "Wards                        1\n",
       "Bukumbi                      1\n",
       "Ubalozi Wa Japani            1\n",
       "Comune Di Roma               1\n",
       "Name: funder, Length: 1897, dtype: int64"
      ]
     },
     "execution_count": 6,
     "metadata": {},
     "output_type": "execute_result"
    }
   ],
   "source": [
    "# looks like there are lots of one-off and unknown funders, it may be worth it to only\n",
    "# include the funders who show up often, and bin all the others in an other category\n",
    "X['funder'].value_counts()"
   ]
  },
  {
   "cell_type": "code",
   "execution_count": 7,
   "metadata": {},
   "outputs": [
    {
     "data": {
      "text/plain": [
       "DWE            17402\n",
       "Government      1825\n",
       "RWE             1206\n",
       "Commu           1060\n",
       "DANIDA          1050\n",
       "               ...  \n",
       "ALIA               1\n",
       "SAIDI CO           1\n",
       "Bhoke Mwita        1\n",
       "Morovian           1\n",
       "PNR Da             1\n",
       "Name: installer, Length: 2145, dtype: int64"
      ]
     },
     "execution_count": 7,
     "metadata": {},
     "output_type": "execute_result"
    }
   ],
   "source": [
    "# it would probably be wise to do a similiar thing to installer as funder\n",
    "X['installer'].value_counts()"
   ]
  },
  {
   "cell_type": "code",
   "execution_count": 8,
   "metadata": {
    "scrolled": true
   },
   "outputs": [
    {
     "data": {
      "text/plain": [
       "True     51011\n",
       "False     5055\n",
       "Name: public_meeting, dtype: int64"
      ]
     },
     "execution_count": 8,
     "metadata": {},
     "output_type": "execute_result"
    }
   ],
   "source": [
    "# we will impute the missing values as True\n",
    "X['public_meeting'].value_counts()"
   ]
  },
  {
   "cell_type": "code",
   "execution_count": 9,
   "metadata": {
    "scrolled": true
   },
   "outputs": [
    {
     "data": {
      "text/plain": [
       "VWC                 36793\n",
       "WUG                  5206\n",
       "Water authority      3153\n",
       "WUA                  2883\n",
       "Water Board          2748\n",
       "Parastatal           1680\n",
       "Private operator     1063\n",
       "Company              1061\n",
       "Other                 766\n",
       "SWC                    97\n",
       "Trust                  72\n",
       "None                    1\n",
       "Name: scheme_management, dtype: int64"
      ]
     },
     "execution_count": 9,
     "metadata": {},
     "output_type": "execute_result"
    }
   ],
   "source": [
    "# we will rethe nulls as either other or None\n",
    "X['scheme_management'].value_counts()"
   ]
  },
  {
   "cell_type": "code",
   "execution_count": 10,
   "metadata": {},
   "outputs": [
    {
     "data": {
      "text/plain": [
       "K                              682\n",
       "None                           644\n",
       "Borehole                       546\n",
       "Chalinze wate                  405\n",
       "M                              400\n",
       "                              ... \n",
       "Longuo water supply              1\n",
       "Msanzu Kati                      1\n",
       "Tove mtwango water supply s      1\n",
       "Shallow Well                     1\n",
       "Jongom                           1\n",
       "Name: scheme_name, Length: 2696, dtype: int64"
      ]
     },
     "execution_count": 10,
     "metadata": {},
     "output_type": "execute_result"
    }
   ],
   "source": [
    "# definitely have way to many different scheme names, over 2000,\n",
    "# we'll need to trucate this list somehow to use it\n",
    "# and I need to better understand what it means\n",
    "# may be best just to not use this feature\n",
    "X['scheme_name'].value_counts()"
   ]
  },
  {
   "cell_type": "code",
   "execution_count": 11,
   "metadata": {},
   "outputs": [
    {
     "data": {
      "text/plain": [
       "True     38852\n",
       "False    17492\n",
       "Name: permit, dtype: int64"
      ]
     },
     "execution_count": 11,
     "metadata": {},
     "output_type": "execute_result"
    }
   ],
   "source": [
    "# We could create a new Missing value, or impute it as either True or False\n",
    "# need to look deeper into this\n",
    "X['permit'].value_counts()"
   ]
  },
  {
   "cell_type": "markdown",
   "metadata": {},
   "source": [
    "### Summary Stats"
   ]
  },
  {
   "cell_type": "code",
   "execution_count": 12,
   "metadata": {
    "scrolled": true
   },
   "outputs": [
    {
     "data": {
      "text/html": [
       "<div>\n",
       "<style scoped>\n",
       "    .dataframe tbody tr th:only-of-type {\n",
       "        vertical-align: middle;\n",
       "    }\n",
       "\n",
       "    .dataframe tbody tr th {\n",
       "        vertical-align: top;\n",
       "    }\n",
       "\n",
       "    .dataframe thead th {\n",
       "        text-align: right;\n",
       "    }\n",
       "</style>\n",
       "<table border=\"1\" class=\"dataframe\">\n",
       "  <thead>\n",
       "    <tr style=\"text-align: right;\">\n",
       "      <th></th>\n",
       "      <th>id</th>\n",
       "      <th>amount_tsh</th>\n",
       "      <th>date_recorded</th>\n",
       "      <th>gps_height</th>\n",
       "      <th>longitude</th>\n",
       "      <th>latitude</th>\n",
       "      <th>num_private</th>\n",
       "      <th>region_code</th>\n",
       "      <th>district_code</th>\n",
       "      <th>population</th>\n",
       "      <th>construction_year</th>\n",
       "    </tr>\n",
       "  </thead>\n",
       "  <tbody>\n",
       "    <tr>\n",
       "      <th>count</th>\n",
       "      <td>59400.000000</td>\n",
       "      <td>59400.000000</td>\n",
       "      <td>59400</td>\n",
       "      <td>59400.000000</td>\n",
       "      <td>59400.000000</td>\n",
       "      <td>5.940000e+04</td>\n",
       "      <td>59400.000000</td>\n",
       "      <td>59400.000000</td>\n",
       "      <td>59400.000000</td>\n",
       "      <td>59400.000000</td>\n",
       "      <td>59400.000000</td>\n",
       "    </tr>\n",
       "    <tr>\n",
       "      <th>mean</th>\n",
       "      <td>37115.131768</td>\n",
       "      <td>317.650385</td>\n",
       "      <td>2012-03-29 09:11:33.818181888</td>\n",
       "      <td>668.297239</td>\n",
       "      <td>34.077427</td>\n",
       "      <td>-5.706033e+00</td>\n",
       "      <td>0.474141</td>\n",
       "      <td>15.297003</td>\n",
       "      <td>5.629747</td>\n",
       "      <td>179.909983</td>\n",
       "      <td>1300.652475</td>\n",
       "    </tr>\n",
       "    <tr>\n",
       "      <th>min</th>\n",
       "      <td>0.000000</td>\n",
       "      <td>0.000000</td>\n",
       "      <td>2002-10-14 00:00:00</td>\n",
       "      <td>-90.000000</td>\n",
       "      <td>0.000000</td>\n",
       "      <td>-1.164944e+01</td>\n",
       "      <td>0.000000</td>\n",
       "      <td>1.000000</td>\n",
       "      <td>0.000000</td>\n",
       "      <td>0.000000</td>\n",
       "      <td>0.000000</td>\n",
       "    </tr>\n",
       "    <tr>\n",
       "      <th>25%</th>\n",
       "      <td>18519.750000</td>\n",
       "      <td>0.000000</td>\n",
       "      <td>2011-04-01 00:00:00</td>\n",
       "      <td>0.000000</td>\n",
       "      <td>33.090347</td>\n",
       "      <td>-8.540621e+00</td>\n",
       "      <td>0.000000</td>\n",
       "      <td>5.000000</td>\n",
       "      <td>2.000000</td>\n",
       "      <td>0.000000</td>\n",
       "      <td>0.000000</td>\n",
       "    </tr>\n",
       "    <tr>\n",
       "      <th>50%</th>\n",
       "      <td>37061.500000</td>\n",
       "      <td>0.000000</td>\n",
       "      <td>2012-10-10 00:00:00</td>\n",
       "      <td>369.000000</td>\n",
       "      <td>34.908743</td>\n",
       "      <td>-5.021597e+00</td>\n",
       "      <td>0.000000</td>\n",
       "      <td>12.000000</td>\n",
       "      <td>3.000000</td>\n",
       "      <td>25.000000</td>\n",
       "      <td>1986.000000</td>\n",
       "    </tr>\n",
       "    <tr>\n",
       "      <th>75%</th>\n",
       "      <td>55656.500000</td>\n",
       "      <td>20.000000</td>\n",
       "      <td>2013-02-09 00:00:00</td>\n",
       "      <td>1319.250000</td>\n",
       "      <td>37.178387</td>\n",
       "      <td>-3.326156e+00</td>\n",
       "      <td>0.000000</td>\n",
       "      <td>17.000000</td>\n",
       "      <td>5.000000</td>\n",
       "      <td>215.000000</td>\n",
       "      <td>2004.000000</td>\n",
       "    </tr>\n",
       "    <tr>\n",
       "      <th>max</th>\n",
       "      <td>74247.000000</td>\n",
       "      <td>350000.000000</td>\n",
       "      <td>2013-12-03 00:00:00</td>\n",
       "      <td>2770.000000</td>\n",
       "      <td>40.345193</td>\n",
       "      <td>-2.000000e-08</td>\n",
       "      <td>1776.000000</td>\n",
       "      <td>99.000000</td>\n",
       "      <td>80.000000</td>\n",
       "      <td>30500.000000</td>\n",
       "      <td>2013.000000</td>\n",
       "    </tr>\n",
       "    <tr>\n",
       "      <th>std</th>\n",
       "      <td>21453.128371</td>\n",
       "      <td>2997.574558</td>\n",
       "      <td>NaN</td>\n",
       "      <td>693.116350</td>\n",
       "      <td>6.567432</td>\n",
       "      <td>2.946019e+00</td>\n",
       "      <td>12.236230</td>\n",
       "      <td>17.587406</td>\n",
       "      <td>9.633649</td>\n",
       "      <td>471.482176</td>\n",
       "      <td>951.620547</td>\n",
       "    </tr>\n",
       "  </tbody>\n",
       "</table>\n",
       "</div>"
      ],
      "text/plain": [
       "                 id     amount_tsh                  date_recorded  \\\n",
       "count  59400.000000   59400.000000                          59400   \n",
       "mean   37115.131768     317.650385  2012-03-29 09:11:33.818181888   \n",
       "min        0.000000       0.000000            2002-10-14 00:00:00   \n",
       "25%    18519.750000       0.000000            2011-04-01 00:00:00   \n",
       "50%    37061.500000       0.000000            2012-10-10 00:00:00   \n",
       "75%    55656.500000      20.000000            2013-02-09 00:00:00   \n",
       "max    74247.000000  350000.000000            2013-12-03 00:00:00   \n",
       "std    21453.128371    2997.574558                            NaN   \n",
       "\n",
       "         gps_height     longitude      latitude   num_private   region_code  \\\n",
       "count  59400.000000  59400.000000  5.940000e+04  59400.000000  59400.000000   \n",
       "mean     668.297239     34.077427 -5.706033e+00      0.474141     15.297003   \n",
       "min      -90.000000      0.000000 -1.164944e+01      0.000000      1.000000   \n",
       "25%        0.000000     33.090347 -8.540621e+00      0.000000      5.000000   \n",
       "50%      369.000000     34.908743 -5.021597e+00      0.000000     12.000000   \n",
       "75%     1319.250000     37.178387 -3.326156e+00      0.000000     17.000000   \n",
       "max     2770.000000     40.345193 -2.000000e-08   1776.000000     99.000000   \n",
       "std      693.116350      6.567432  2.946019e+00     12.236230     17.587406   \n",
       "\n",
       "       district_code    population  construction_year  \n",
       "count   59400.000000  59400.000000       59400.000000  \n",
       "mean        5.629747    179.909983        1300.652475  \n",
       "min         0.000000      0.000000           0.000000  \n",
       "25%         2.000000      0.000000           0.000000  \n",
       "50%         3.000000     25.000000        1986.000000  \n",
       "75%         5.000000    215.000000        2004.000000  \n",
       "max        80.000000  30500.000000        2013.000000  \n",
       "std         9.633649    471.482176         951.620547  "
      ]
     },
     "execution_count": 12,
     "metadata": {},
     "output_type": "execute_result"
    }
   ],
   "source": [
    "# looking at the summary statistics of numeric variables\n",
    "X.describe(datetime_is_numeric=True)"
   ]
  },
  {
   "cell_type": "code",
   "execution_count": 13,
   "metadata": {},
   "outputs": [
    {
     "data": {
      "text/plain": [
       "27"
      ]
     },
     "execution_count": 13,
     "metadata": {},
     "output_type": "execute_result"
    }
   ],
   "source": [
    "# looking at how many region codes there are\n",
    "len(X['region_code'].unique())"
   ]
  },
  {
   "cell_type": "code",
   "execution_count": 14,
   "metadata": {},
   "outputs": [
    {
     "data": {
      "text/plain": [
       "20"
      ]
     },
     "execution_count": 14,
     "metadata": {},
     "output_type": "execute_result"
    }
   ],
   "source": [
    "len(X['district_code'].unique())"
   ]
  },
  {
   "cell_type": "markdown",
   "metadata": {},
   "source": [
    "#### Numeric variables\n",
    "- id: identifying variable unique to every waterwell, descriptive statistics are not important\n",
    "- amount_tsh: Total static head is the vertical distance between the water source and the head of the pump\n",
    "    - distance is zero for the vast majority of wells\n",
    "- date_recorded: The day the data from the well was recorded\n",
    "    - seems the vast majority of the dates were in the early 2010's\n",
    "- gps_height: The altitude of the well\n",
    "    - seems that most wells were quite low in elevation, which intuitively makes sense\n",
    "- longitude: The longitudinal coordinate of the well\n",
    "- latitude: The lattitudinal coordinate of the well\n",
    "- num_private: Could not find what num_private means anywhere\n",
    "    - good candidate feature to be dropped\n",
    "- region_code: Contains some sort of geographic data\n",
    "    - there are 21 different regions, but 27 different region_codes\n",
    "- population: Described as population around the well\n",
    "    - not exactly sure what this means\n",
    "    - regardless, most wells have very low numbers\n",
    "    - all those zeroes could be missing values or reflective of what \"around the well\" means\n",
    "- construction_year: The year that the well was built\n",
    "    - all the zeroes are definitely missing values here"
   ]
  },
  {
   "cell_type": "code",
   "execution_count": 15,
   "metadata": {},
   "outputs": [
    {
     "data": {
      "text/html": [
       "<div>\n",
       "<style scoped>\n",
       "    .dataframe tbody tr th:only-of-type {\n",
       "        vertical-align: middle;\n",
       "    }\n",
       "\n",
       "    .dataframe tbody tr th {\n",
       "        vertical-align: top;\n",
       "    }\n",
       "\n",
       "    .dataframe thead th {\n",
       "        text-align: right;\n",
       "    }\n",
       "</style>\n",
       "<table border=\"1\" class=\"dataframe\">\n",
       "  <thead>\n",
       "    <tr style=\"text-align: right;\">\n",
       "      <th></th>\n",
       "      <th>funder</th>\n",
       "      <th>installer</th>\n",
       "      <th>wpt_name</th>\n",
       "      <th>basin</th>\n",
       "      <th>subvillage</th>\n",
       "      <th>region</th>\n",
       "      <th>lga</th>\n",
       "      <th>ward</th>\n",
       "      <th>public_meeting</th>\n",
       "      <th>recorded_by</th>\n",
       "      <th>scheme_management</th>\n",
       "      <th>scheme_name</th>\n",
       "      <th>permit</th>\n",
       "      <th>extraction_type</th>\n",
       "      <th>extraction_type_group</th>\n",
       "      <th>extraction_type_class</th>\n",
       "      <th>management</th>\n",
       "      <th>management_group</th>\n",
       "      <th>payment</th>\n",
       "      <th>payment_type</th>\n",
       "      <th>water_quality</th>\n",
       "      <th>quality_group</th>\n",
       "      <th>quantity</th>\n",
       "      <th>quantity_group</th>\n",
       "      <th>source</th>\n",
       "      <th>source_type</th>\n",
       "      <th>source_class</th>\n",
       "      <th>waterpoint_type</th>\n",
       "      <th>waterpoint_type_group</th>\n",
       "    </tr>\n",
       "  </thead>\n",
       "  <tbody>\n",
       "    <tr>\n",
       "      <th>count</th>\n",
       "      <td>55765</td>\n",
       "      <td>55745</td>\n",
       "      <td>59400</td>\n",
       "      <td>59400</td>\n",
       "      <td>59029</td>\n",
       "      <td>59400</td>\n",
       "      <td>59400</td>\n",
       "      <td>59400</td>\n",
       "      <td>56066</td>\n",
       "      <td>59400</td>\n",
       "      <td>55523</td>\n",
       "      <td>31234</td>\n",
       "      <td>56344</td>\n",
       "      <td>59400</td>\n",
       "      <td>59400</td>\n",
       "      <td>59400</td>\n",
       "      <td>59400</td>\n",
       "      <td>59400</td>\n",
       "      <td>59400</td>\n",
       "      <td>59400</td>\n",
       "      <td>59400</td>\n",
       "      <td>59400</td>\n",
       "      <td>59400</td>\n",
       "      <td>59400</td>\n",
       "      <td>59400</td>\n",
       "      <td>59400</td>\n",
       "      <td>59400</td>\n",
       "      <td>59400</td>\n",
       "      <td>59400</td>\n",
       "    </tr>\n",
       "    <tr>\n",
       "      <th>unique</th>\n",
       "      <td>1897</td>\n",
       "      <td>2145</td>\n",
       "      <td>37400</td>\n",
       "      <td>9</td>\n",
       "      <td>19287</td>\n",
       "      <td>21</td>\n",
       "      <td>125</td>\n",
       "      <td>2092</td>\n",
       "      <td>2</td>\n",
       "      <td>1</td>\n",
       "      <td>12</td>\n",
       "      <td>2696</td>\n",
       "      <td>2</td>\n",
       "      <td>18</td>\n",
       "      <td>13</td>\n",
       "      <td>7</td>\n",
       "      <td>12</td>\n",
       "      <td>5</td>\n",
       "      <td>7</td>\n",
       "      <td>7</td>\n",
       "      <td>8</td>\n",
       "      <td>6</td>\n",
       "      <td>5</td>\n",
       "      <td>5</td>\n",
       "      <td>10</td>\n",
       "      <td>7</td>\n",
       "      <td>3</td>\n",
       "      <td>7</td>\n",
       "      <td>6</td>\n",
       "    </tr>\n",
       "    <tr>\n",
       "      <th>top</th>\n",
       "      <td>Government Of Tanzania</td>\n",
       "      <td>DWE</td>\n",
       "      <td>none</td>\n",
       "      <td>Lake Victoria</td>\n",
       "      <td>Madukani</td>\n",
       "      <td>Iringa</td>\n",
       "      <td>Njombe</td>\n",
       "      <td>Igosi</td>\n",
       "      <td>True</td>\n",
       "      <td>GeoData Consultants Ltd</td>\n",
       "      <td>VWC</td>\n",
       "      <td>K</td>\n",
       "      <td>True</td>\n",
       "      <td>gravity</td>\n",
       "      <td>gravity</td>\n",
       "      <td>gravity</td>\n",
       "      <td>vwc</td>\n",
       "      <td>user-group</td>\n",
       "      <td>never pay</td>\n",
       "      <td>never pay</td>\n",
       "      <td>soft</td>\n",
       "      <td>good</td>\n",
       "      <td>enough</td>\n",
       "      <td>enough</td>\n",
       "      <td>spring</td>\n",
       "      <td>spring</td>\n",
       "      <td>groundwater</td>\n",
       "      <td>communal standpipe</td>\n",
       "      <td>communal standpipe</td>\n",
       "    </tr>\n",
       "    <tr>\n",
       "      <th>freq</th>\n",
       "      <td>9084</td>\n",
       "      <td>17402</td>\n",
       "      <td>3563</td>\n",
       "      <td>10248</td>\n",
       "      <td>508</td>\n",
       "      <td>5294</td>\n",
       "      <td>2503</td>\n",
       "      <td>307</td>\n",
       "      <td>51011</td>\n",
       "      <td>59400</td>\n",
       "      <td>36793</td>\n",
       "      <td>682</td>\n",
       "      <td>38852</td>\n",
       "      <td>26780</td>\n",
       "      <td>26780</td>\n",
       "      <td>26780</td>\n",
       "      <td>40507</td>\n",
       "      <td>52490</td>\n",
       "      <td>25348</td>\n",
       "      <td>25348</td>\n",
       "      <td>50818</td>\n",
       "      <td>50818</td>\n",
       "      <td>33186</td>\n",
       "      <td>33186</td>\n",
       "      <td>17021</td>\n",
       "      <td>17021</td>\n",
       "      <td>45794</td>\n",
       "      <td>28522</td>\n",
       "      <td>34625</td>\n",
       "    </tr>\n",
       "  </tbody>\n",
       "</table>\n",
       "</div>"
      ],
      "text/plain": [
       "                        funder installer wpt_name          basin subvillage  \\\n",
       "count                    55765     55745    59400          59400      59029   \n",
       "unique                    1897      2145    37400              9      19287   \n",
       "top     Government Of Tanzania       DWE     none  Lake Victoria   Madukani   \n",
       "freq                      9084     17402     3563          10248        508   \n",
       "\n",
       "        region     lga   ward public_meeting              recorded_by  \\\n",
       "count    59400   59400  59400          56066                    59400   \n",
       "unique      21     125   2092              2                        1   \n",
       "top     Iringa  Njombe  Igosi           True  GeoData Consultants Ltd   \n",
       "freq      5294    2503    307          51011                    59400   \n",
       "\n",
       "       scheme_management scheme_name permit extraction_type  \\\n",
       "count              55523       31234  56344           59400   \n",
       "unique                12        2696      2              18   \n",
       "top                  VWC           K   True         gravity   \n",
       "freq               36793         682  38852           26780   \n",
       "\n",
       "       extraction_type_group extraction_type_class management  \\\n",
       "count                  59400                 59400      59400   \n",
       "unique                    13                     7         12   \n",
       "top                  gravity               gravity        vwc   \n",
       "freq                   26780                 26780      40507   \n",
       "\n",
       "       management_group    payment payment_type water_quality quality_group  \\\n",
       "count             59400      59400        59400         59400         59400   \n",
       "unique                5          7            7             8             6   \n",
       "top          user-group  never pay    never pay          soft          good   \n",
       "freq              52490      25348        25348         50818         50818   \n",
       "\n",
       "       quantity quantity_group  source source_type source_class  \\\n",
       "count     59400          59400   59400       59400        59400   \n",
       "unique        5              5      10           7            3   \n",
       "top      enough         enough  spring      spring  groundwater   \n",
       "freq      33186          33186   17021       17021        45794   \n",
       "\n",
       "           waterpoint_type waterpoint_type_group  \n",
       "count                59400                 59400  \n",
       "unique                   7                     6  \n",
       "top     communal standpipe    communal standpipe  \n",
       "freq                 28522                 34625  "
      ]
     },
     "execution_count": 15,
     "metadata": {},
     "output_type": "execute_result"
    }
   ],
   "source": [
    "# looked at all the categorical variables\n",
    "X.describe(include='object')"
   ]
  },
  {
   "cell_type": "markdown",
   "metadata": {},
   "source": [
    "## Data Cleaning"
   ]
  },
  {
   "cell_type": "markdown",
   "metadata": {},
   "source": [
    "##### Scheme Name"
   ]
  },
  {
   "cell_type": "code",
   "execution_count": 16,
   "metadata": {
    "scrolled": true
   },
   "outputs": [
    {
     "data": {
      "text/plain": [
       "K                                        682\n",
       "None                                     644\n",
       "Borehole                                 546\n",
       "Chalinze wate                            405\n",
       "M                                        400\n",
       "DANIDA                                   379\n",
       "Government                               320\n",
       "Ngana water supplied scheme              270\n",
       "wanging'ombe water supply s              261\n",
       "wanging'ombe supply scheme               234\n",
       "I                                        229\n",
       "Bagamoyo wate                            229\n",
       "Uroki-Bomang'ombe water sup              209\n",
       "N                                        204\n",
       "Kirua kahe gravity water supply trust    193\n",
       "Machumba estate pipe line                185\n",
       "Makwale water supplied sche              166\n",
       "Kijiji                                   161\n",
       "S                                        154\n",
       "mtwango water supply scheme              152\n",
       "Name: scheme_name, dtype: int64"
      ]
     },
     "execution_count": 16,
     "metadata": {},
     "output_type": "execute_result"
    }
   ],
   "source": [
    "# scheme_name is super messy, it may be best to drop it\n",
    "X['scheme_name'].value_counts().head(20)"
   ]
  },
  {
   "cell_type": "markdown",
   "metadata": {},
   "source": [
    "##### Payment"
   ]
  },
  {
   "cell_type": "code",
   "execution_count": 17,
   "metadata": {
    "scrolled": true
   },
   "outputs": [
    {
     "data": {
      "text/plain": [
       "never pay                25348\n",
       "pay per bucket            8985\n",
       "pay monthly               8300\n",
       "unknown                   8157\n",
       "pay when scheme fails     3914\n",
       "pay annually              3642\n",
       "other                     1054\n",
       "Name: payment, dtype: int64"
      ]
     },
     "execution_count": 17,
     "metadata": {},
     "output_type": "execute_result"
    }
   ],
   "source": [
    "# the payment and payment_type features are identical\n",
    "X['payment'].value_counts()"
   ]
  },
  {
   "cell_type": "code",
   "execution_count": 18,
   "metadata": {},
   "outputs": [
    {
     "data": {
      "text/plain": [
       "never pay     25348\n",
       "per bucket     8985\n",
       "monthly        8300\n",
       "unknown        8157\n",
       "on failure     3914\n",
       "annually       3642\n",
       "other          1054\n",
       "Name: payment_type, dtype: int64"
      ]
     },
     "execution_count": 18,
     "metadata": {},
     "output_type": "execute_result"
    }
   ],
   "source": [
    "X['payment_type'].value_counts()"
   ]
  },
  {
   "cell_type": "markdown",
   "metadata": {},
   "source": [
    "##### Water Quality"
   ]
  },
  {
   "cell_type": "code",
   "execution_count": 19,
   "metadata": {},
   "outputs": [
    {
     "data": {
      "text/plain": [
       "soft                  50818\n",
       "salty                  4856\n",
       "unknown                1876\n",
       "milky                   804\n",
       "coloured                490\n",
       "salty abandoned         339\n",
       "fluoride                200\n",
       "fluoride abandoned       17\n",
       "Name: water_quality, dtype: int64"
      ]
     },
     "execution_count": 19,
     "metadata": {},
     "output_type": "execute_result"
    }
   ],
   "source": [
    "# The water_quality and quality_group features have a ton of overlap\n",
    "X['water_quality'].value_counts()"
   ]
  },
  {
   "cell_type": "code",
   "execution_count": 20,
   "metadata": {
    "scrolled": false
   },
   "outputs": [
    {
     "data": {
      "text/plain": [
       "good        50818\n",
       "salty        5195\n",
       "unknown      1876\n",
       "milky         804\n",
       "colored       490\n",
       "fluoride      217\n",
       "Name: quality_group, dtype: int64"
      ]
     },
     "execution_count": 20,
     "metadata": {},
     "output_type": "execute_result"
    }
   ],
   "source": [
    "X['quality_group'].value_counts()"
   ]
  },
  {
   "cell_type": "markdown",
   "metadata": {},
   "source": [
    "##### Water Quantity"
   ]
  },
  {
   "cell_type": "code",
   "execution_count": 21,
   "metadata": {
    "scrolled": true
   },
   "outputs": [
    {
     "data": {
      "text/plain": [
       "enough          33186\n",
       "insufficient    15129\n",
       "dry              6246\n",
       "seasonal         4050\n",
       "unknown           789\n",
       "Name: quantity, dtype: int64"
      ]
     },
     "execution_count": 21,
     "metadata": {},
     "output_type": "execute_result"
    }
   ],
   "source": [
    "# No further information provided between quantity and quantity_group\n",
    "X['quantity'].value_counts()"
   ]
  },
  {
   "cell_type": "code",
   "execution_count": 22,
   "metadata": {
    "scrolled": true
   },
   "outputs": [
    {
     "data": {
      "text/plain": [
       "enough          33186\n",
       "insufficient    15129\n",
       "dry              6246\n",
       "seasonal         4050\n",
       "unknown           789\n",
       "Name: quantity_group, dtype: int64"
      ]
     },
     "execution_count": 22,
     "metadata": {},
     "output_type": "execute_result"
    }
   ],
   "source": [
    "X['quantity_group'].value_counts()"
   ]
  },
  {
   "cell_type": "markdown",
   "metadata": {},
   "source": [
    "##### Source"
   ]
  },
  {
   "cell_type": "code",
   "execution_count": 23,
   "metadata": {
    "scrolled": true
   },
   "outputs": [
    {
     "data": {
      "text/plain": [
       "spring                  17021\n",
       "shallow well            16824\n",
       "machine dbh             11075\n",
       "river                    9612\n",
       "rainwater harvesting     2295\n",
       "hand dtw                  874\n",
       "lake                      765\n",
       "dam                       656\n",
       "other                     212\n",
       "unknown                    66\n",
       "Name: source, dtype: int64"
      ]
     },
     "execution_count": 23,
     "metadata": {},
     "output_type": "execute_result"
    }
   ],
   "source": [
    "# tons of redundancy between source and source_type\n",
    "X['source'].value_counts()"
   ]
  },
  {
   "cell_type": "code",
   "execution_count": 24,
   "metadata": {
    "scrolled": false
   },
   "outputs": [
    {
     "data": {
      "text/plain": [
       "spring                  17021\n",
       "shallow well            16824\n",
       "borehole                11949\n",
       "river/lake              10377\n",
       "rainwater harvesting     2295\n",
       "dam                       656\n",
       "other                     278\n",
       "Name: source_type, dtype: int64"
      ]
     },
     "execution_count": 24,
     "metadata": {},
     "output_type": "execute_result"
    }
   ],
   "source": [
    "X['source_type'].value_counts()"
   ]
  },
  {
   "cell_type": "markdown",
   "metadata": {},
   "source": [
    "##### Waterpoint Type"
   ]
  },
  {
   "cell_type": "code",
   "execution_count": 25,
   "metadata": {
    "scrolled": true
   },
   "outputs": [
    {
     "data": {
      "text/plain": [
       "communal standpipe             28522\n",
       "hand pump                      17488\n",
       "other                           6380\n",
       "communal standpipe multiple     6103\n",
       "improved spring                  784\n",
       "cattle trough                    116\n",
       "dam                                7\n",
       "Name: waterpoint_type, dtype: int64"
      ]
     },
     "execution_count": 25,
     "metadata": {},
     "output_type": "execute_result"
    }
   ],
   "source": [
    "# Only one extra category for waterpoint_type, probably good to drop waterpoint_type_group\n",
    "X['waterpoint_type'].value_counts()"
   ]
  },
  {
   "cell_type": "code",
   "execution_count": 26,
   "metadata": {
    "scrolled": true
   },
   "outputs": [
    {
     "data": {
      "text/plain": [
       "communal standpipe    34625\n",
       "hand pump             17488\n",
       "other                  6380\n",
       "improved spring         784\n",
       "cattle trough           116\n",
       "dam                       7\n",
       "Name: waterpoint_type_group, dtype: int64"
      ]
     },
     "execution_count": 26,
     "metadata": {},
     "output_type": "execute_result"
    }
   ],
   "source": [
    "X['waterpoint_type_group'].value_counts()"
   ]
  },
  {
   "cell_type": "markdown",
   "metadata": {},
   "source": [
    "##### Extraction Type"
   ]
  },
  {
   "cell_type": "code",
   "execution_count": 27,
   "metadata": {
    "scrolled": true
   },
   "outputs": [
    {
     "data": {
      "text/plain": [
       "gravity                      26780\n",
       "nira/tanira                   8154\n",
       "other                         6430\n",
       "submersible                   4764\n",
       "swn 80                        3670\n",
       "mono                          2865\n",
       "india mark ii                 2400\n",
       "afridev                       1770\n",
       "ksb                           1415\n",
       "other - rope pump              451\n",
       "other - swn 81                 229\n",
       "windmill                       117\n",
       "india mark iii                  98\n",
       "cemo                            90\n",
       "other - play pump               85\n",
       "walimi                          48\n",
       "climax                          32\n",
       "other - mkulima/shinyanga        2\n",
       "Name: extraction_type, dtype: int64"
      ]
     },
     "execution_count": 27,
     "metadata": {},
     "output_type": "execute_result"
    }
   ],
   "source": [
    "# extraction_type, extraction_type_group, and extraction_type_class \n",
    "# all give the same information with different levels of granularity\n",
    "X['extraction_type'].value_counts()"
   ]
  },
  {
   "cell_type": "code",
   "execution_count": 28,
   "metadata": {
    "scrolled": true
   },
   "outputs": [
    {
     "data": {
      "text/plain": [
       "gravity            26780\n",
       "nira/tanira         8154\n",
       "other               6430\n",
       "submersible         6179\n",
       "swn 80              3670\n",
       "mono                2865\n",
       "india mark ii       2400\n",
       "afridev             1770\n",
       "rope pump            451\n",
       "other handpump       364\n",
       "other motorpump      122\n",
       "wind-powered         117\n",
       "india mark iii        98\n",
       "Name: extraction_type_group, dtype: int64"
      ]
     },
     "execution_count": 28,
     "metadata": {},
     "output_type": "execute_result"
    }
   ],
   "source": [
    "X['extraction_type_group'].value_counts()"
   ]
  },
  {
   "cell_type": "code",
   "execution_count": 29,
   "metadata": {
    "scrolled": false
   },
   "outputs": [
    {
     "data": {
      "text/plain": [
       "gravity         26780\n",
       "handpump        16456\n",
       "other            6430\n",
       "submersible      6179\n",
       "motorpump        2987\n",
       "rope pump         451\n",
       "wind-powered      117\n",
       "Name: extraction_type_class, dtype: int64"
      ]
     },
     "execution_count": 29,
     "metadata": {},
     "output_type": "execute_result"
    }
   ],
   "source": [
    "X['extraction_type_class'].value_counts()"
   ]
  },
  {
   "cell_type": "markdown",
   "metadata": {},
   "source": [
    "##### Region"
   ]
  },
  {
   "cell_type": "code",
   "execution_count": 30,
   "metadata": {
    "scrolled": true
   },
   "outputs": [
    {
     "data": {
      "text/plain": [
       "region         region_code\n",
       "Arusha         2              3024\n",
       "               24              326\n",
       "Dar es Salaam  7               805\n",
       "Dodoma         1              2201\n",
       "Iringa         11             5294\n",
       "Kagera         18             3316\n",
       "Kigoma         16             2816\n",
       "Kilimanjaro    3              4379\n",
       "Lindi          80             1238\n",
       "               8               300\n",
       "               18                8\n",
       "Manyara        21             1583\n",
       "Mara           20             1969\n",
       "Mbeya          12             4639\n",
       "Morogoro       5              4006\n",
       "Mtwara         90              917\n",
       "               99              423\n",
       "               9               390\n",
       "Mwanza         19             3047\n",
       "               17               55\n",
       "Pwani          6              1609\n",
       "               60             1025\n",
       "               40                1\n",
       "Rukwa          15             1808\n",
       "Ruvuma         10             2640\n",
       "Shinyanga      17             4956\n",
       "               14               20\n",
       "               11                6\n",
       "Singida        13             2093\n",
       "Tabora         14             1959\n",
       "Tanga          4              2513\n",
       "               5                34\n",
       "Name: region_code, dtype: int64"
      ]
     },
     "execution_count": 30,
     "metadata": {},
     "output_type": "execute_result"
    }
   ],
   "source": [
    "# There is conflicting information between region and region_code\n",
    "X.groupby('region')['region_code'].value_counts()"
   ]
  },
  {
   "cell_type": "markdown",
   "metadata": {},
   "source": [
    "##### Management"
   ]
  },
  {
   "cell_type": "code",
   "execution_count": 31,
   "metadata": {
    "scrolled": false
   },
   "outputs": [
    {
     "data": {
      "text/plain": [
       "VWC                 36793\n",
       "WUG                  5206\n",
       "Water authority      3153\n",
       "WUA                  2883\n",
       "Water Board          2748\n",
       "Parastatal           1680\n",
       "Private operator     1063\n",
       "Company              1061\n",
       "Other                 766\n",
       "SWC                    97\n",
       "Trust                  72\n",
       "None                    1\n",
       "Name: scheme_management, dtype: int64"
      ]
     },
     "execution_count": 31,
     "metadata": {},
     "output_type": "execute_result"
    }
   ],
   "source": [
    "# scheme_management seems to describe something different from the other two management variables,\n",
    "# but also seems to have high levels of multicollinearity. However, management seems to be a more granular \n",
    "# version of the management group variable.\n",
    "X['scheme_management'].value_counts()"
   ]
  },
  {
   "cell_type": "code",
   "execution_count": 32,
   "metadata": {
    "scrolled": false
   },
   "outputs": [
    {
     "data": {
      "text/plain": [
       "vwc                 40507\n",
       "wug                  6515\n",
       "water board          2933\n",
       "wua                  2535\n",
       "private operator     1971\n",
       "parastatal           1768\n",
       "water authority       904\n",
       "other                 844\n",
       "company               685\n",
       "unknown               561\n",
       "other - school         99\n",
       "trust                  78\n",
       "Name: management, dtype: int64"
      ]
     },
     "execution_count": 32,
     "metadata": {},
     "output_type": "execute_result"
    }
   ],
   "source": [
    "X['management'].value_counts()"
   ]
  },
  {
   "cell_type": "code",
   "execution_count": 33,
   "metadata": {
    "scrolled": false
   },
   "outputs": [
    {
     "data": {
      "text/plain": [
       "user-group    52490\n",
       "commercial     3638\n",
       "parastatal     1768\n",
       "other           943\n",
       "unknown         561\n",
       "Name: management_group, dtype: int64"
      ]
     },
     "execution_count": 33,
     "metadata": {},
     "output_type": "execute_result"
    }
   ],
   "source": [
    "X['management_group'].value_counts()"
   ]
  },
  {
   "cell_type": "markdown",
   "metadata": {},
   "source": [
    "##### Subvillage"
   ]
  },
  {
   "cell_type": "code",
   "execution_count": 34,
   "metadata": {},
   "outputs": [
    {
     "data": {
      "text/plain": [
       "22"
      ]
     },
     "execution_count": 34,
     "metadata": {},
     "output_type": "execute_result"
    }
   ],
   "source": [
    "# many of the subvillages with few observations won't be conducive to modeling\n",
    "(X['subvillage'].value_counts() > 100).sum()"
   ]
  },
  {
   "cell_type": "code",
   "execution_count": 35,
   "metadata": {
    "scrolled": true
   },
   "outputs": [
    {
     "data": {
      "text/plain": [
       "Madukani      508\n",
       "Shuleni       506\n",
       "Majengo       502\n",
       "Kati          373\n",
       "Mtakuja       262\n",
       "Sokoni        232\n",
       "M             187\n",
       "Muungano      172\n",
       "Mbuyuni       164\n",
       "Mlimani       152\n",
       "Songambele    147\n",
       "Miembeni      134\n",
       "Msikitini     134\n",
       "1             132\n",
       "Kibaoni       114\n",
       "Kanisani      111\n",
       "Mapinduzi     109\n",
       "I             109\n",
       "Mjini         108\n",
       "Mjimwema      108\n",
       "Mkwajuni      104\n",
       "Mwenge        102\n",
       "Name: subvillage, dtype: int64"
      ]
     },
     "execution_count": 35,
     "metadata": {},
     "output_type": "execute_result"
    }
   ],
   "source": [
    "# it may be best just to drop the column given how the vast majority of subvillages will only have 1 well\n",
    "X['subvillage'].value_counts().head(22)"
   ]
  },
  {
   "cell_type": "markdown",
   "metadata": {},
   "source": [
    "##### District Code"
   ]
  },
  {
   "cell_type": "code",
   "execution_count": 36,
   "metadata": {
    "scrolled": true
   },
   "outputs": [
    {
     "data": {
      "text/plain": [
       "region  district_code\n",
       "Arusha  2                1206\n",
       "        7                1009\n",
       "        30                326\n",
       "        6                 310\n",
       "        5                 201\n",
       "                         ... \n",
       "Tanga   5                 293\n",
       "        8                 288\n",
       "        6                 266\n",
       "        7                 127\n",
       "        4                 110\n",
       "Name: district_code, Length: 132, dtype: int64"
      ]
     },
     "execution_count": 36,
     "metadata": {},
     "output_type": "execute_result"
    }
   ],
   "source": [
    "# district code seems really messy, it would have to be grouped by region\n",
    "# may be better not to use this feature\n",
    "X.groupby('region')['district_code'].value_counts()"
   ]
  },
  {
   "cell_type": "markdown",
   "metadata": {},
   "source": [
    "#### Categorical variables\n",
    "- funder: The name of the party that funded the well\n",
    "- installer: The name of the party that installed the well\n",
    "- wpt_name: The name of the waterpoint\n",
    "    - a good candidate for dropping\n",
    "- basin: The name of the basin that the well's water drains to\n",
    "- subvillage: Contains some sort of geographic data\n",
    "    - extremely granular data, almost 20,000 unique values\n",
    "    - will need to either drop or transform data\n",
    "- region: Contains some sort of geographic data\n",
    "- lga: Contains some sort of geographic data\n",
    "    - local government authority???\n",
    "- ward: Contains some sort of geographic data\n",
    "    - probably a better candidate for analysis than subvillage\n",
    "- public_meeting: not sure what this point means\n",
    "    - presumably just true if the well is used as a place of public meeting\n",
    "- recorded_by: The party that recorded the data\n",
    "    - literally only one category, should drop this feature\n",
    "- scheme_management: Describes who operates the waterpoint\n",
    "    - seems to classify the operators of the well by type of party\n",
    "- scheme_name: Describes who operates the waterpoint\n",
    "    - seems to give the name of the party\n",
    "    - way more observations here, may want to\n",
    "- permit: Is true if the waterpoint has a permit\n",
    "- extraction_type: Describes the method of extraction used\n",
    "    - 17 unique categories, but several don't have many observations\n",
    "- extraction_type_group: Describes the method of extraction used\n",
    "    - 13 unique categories, and each one has at least 98 observations\n",
    "- extraction_type_class: Describes the method of extraction used\n",
    "    - 7 unique categories, each one has enough observations but group has more granularity\n",
    "- management: Describes the type of party that manages the well\n",
    "    - 12 unique values, look at scheme_management\n",
    "- management_group: Describes the type of party that manages the well\n",
    "    - 5 uniqe values\n",
    "- payment: Describes the cost of operating the well\n",
    "    - No idea if cost for the users or for the operating party\n",
    "- payment_group: Describes the cost of operating the well\n",
    "    - Literally all the same values as payment, drop this column\n",
    "- water_quality: Describes the quality of the water\n",
    "    - may be worth combining salty abandoned and flouride abandoned into just abandoned\n",
    "- quality_group: Describes the quality of the water\n",
    "    - has significant overlap with water_quality, may just drop this feature\n",
    "- quantity: Describes the quantity of water the well can provide\n",
    "    - this feature almost seems like cheating, may have misunderstood the problem\n",
    "- quantity_group: Describes the quantity of water the well can provide\n",
    "    - once again a redundant feature with no new info, need to drop this feature\n",
    "- source: Describes where the water comes from\n",
    "- source_type: Describes where the water comes from\n",
    "    - lots of redundancy between this feature and source\n",
    "- source_class: Describes where the water comes from\n",
    "- waterpoint_type: Describes the type of waterpoint\n",
    "- waterpoint_type_group: Describes the type of waterpoint\n",
    "    - need to drop either waterpoint type or waterpoint_type_group"
   ]
  },
  {
   "cell_type": "code",
   "execution_count": 37,
   "metadata": {},
   "outputs": [
    {
     "data": {
      "text/html": [
       "<div>\n",
       "<style scoped>\n",
       "    .dataframe tbody tr th:only-of-type {\n",
       "        vertical-align: middle;\n",
       "    }\n",
       "\n",
       "    .dataframe tbody tr th {\n",
       "        vertical-align: top;\n",
       "    }\n",
       "\n",
       "    .dataframe thead th {\n",
       "        text-align: right;\n",
       "    }\n",
       "</style>\n",
       "<table border=\"1\" class=\"dataframe\">\n",
       "  <thead>\n",
       "    <tr style=\"text-align: right;\">\n",
       "      <th></th>\n",
       "      <th>status_group</th>\n",
       "    </tr>\n",
       "  </thead>\n",
       "  <tbody>\n",
       "    <tr>\n",
       "      <th>count</th>\n",
       "      <td>59400</td>\n",
       "    </tr>\n",
       "    <tr>\n",
       "      <th>unique</th>\n",
       "      <td>3</td>\n",
       "    </tr>\n",
       "    <tr>\n",
       "      <th>top</th>\n",
       "      <td>functional</td>\n",
       "    </tr>\n",
       "    <tr>\n",
       "      <th>freq</th>\n",
       "      <td>32259</td>\n",
       "    </tr>\n",
       "  </tbody>\n",
       "</table>\n",
       "</div>"
      ],
      "text/plain": [
       "       status_group\n",
       "count         59400\n",
       "unique            3\n",
       "top      functional\n",
       "freq          32259"
      ]
     },
     "execution_count": 37,
     "metadata": {},
     "output_type": "execute_result"
    }
   ],
   "source": [
    "# just to look at the target\n",
    "y.describe(include='object')"
   ]
  },
  {
   "cell_type": "code",
   "execution_count": 38,
   "metadata": {},
   "outputs": [
    {
     "data": {
      "text/plain": [
       "functional                 32259\n",
       "non functional             22824\n",
       "functional needs repair     4317\n",
       "Name: status_group, dtype: int64"
      ]
     },
     "execution_count": 38,
     "metadata": {},
     "output_type": "execute_result"
    }
   ],
   "source": [
    "# and looked at the split up of the target, may want to make it binary\n",
    "y['status_group'].value_counts()"
   ]
  },
  {
   "cell_type": "code",
   "execution_count": 39,
   "metadata": {},
   "outputs": [],
   "source": [
    "# dropped the id column from X and y, shouldn't need them,\n",
    "# and can join them back later if necessary or just rerun notebook\n",
    "#X = X.drop('id', axis=1)\n",
    "#y = y.drop('id', axis=1)"
   ]
  },
  {
   "cell_type": "markdown",
   "metadata": {},
   "source": [
    "### Pre-split Cleaning"
   ]
  },
  {
   "cell_type": "markdown",
   "metadata": {},
   "source": [
    "#### Feature Removal"
   ]
  },
  {
   "cell_type": "markdown",
   "metadata": {},
   "source": [
    "First we should drop all the columns that are too messy or don't provide any further information. \n",
    "- The `num_private` feature has 0's for the vast majority of the columns and there is record of what this even means.\n",
    "- The `recorded_by` feature is the same for every single well, and thus provides no meaningful information to our model.\n",
    "- The `payment_type` variable is identical to the `payment` variable. The `quality_group` contains almost identical information to `water_quality`. \n",
    "- The `quantity_group` feature contains identical information to the `quantity` variable. \n",
    "- The `waterpoint_type_group` feature has the exact same information as `waterpoint_type` except the latter splits up communal standpipe category into two types. \n",
    "- The `wpt_name` feature only contains identifying information, specifically the name of the well. The `date_recorded` variable shouldn't be used as a predictor as this is not a time series prediction. \n",
    "- The `scheme_name` variable seems too messy to effictively use, with far too many NA's and uninterpretable categories. \n",
    "- The `extraction_type`, `extraction_type_group`, and `extraction_type_class` variables all have overlapping information, but only the `extraction_type_group` feature seemed to hit the perfect balance of category size. \n",
    "- The `region_code` variable is a different form of the `region` variable, but the two features have a lot of conflicting information. \n",
    "- The `region` feature writes out each region name and seems less likely to run into data entry errors, so `region_code` will be dropped. \n",
    "- The `source_type` variable has the same information as `source`, but with less granularity. \n",
    "- The vast majority of `subvillage` categories only have one well, it seems unlikely this feature would have much useful information and would add at least 20 more columns of information once encoded."
   ]
  },
  {
   "cell_type": "code",
   "execution_count": 40,
   "metadata": {
    "scrolled": false
   },
   "outputs": [],
   "source": [
    "# The models shouldn't suffer from dropping these columns\n",
    "drop_cols = ['num_private', 'recorded_by', 'payment_type', 'quality_group','wpt_name', 'management_group',\n",
    "             'quantity_group','waterpoint_type_group', 'date_recorded', 'scheme_name', 'district_code',\n",
    "             'extraction_type', 'extraction_type_class', 'region_code', 'source_type', 'subvillage']\n",
    "X.drop(drop_cols, axis=1, inplace=True)"
   ]
  },
  {
   "cell_type": "code",
   "execution_count": 41,
   "metadata": {},
   "outputs": [
    {
     "data": {
      "text/plain": [
       "2990"
      ]
     },
     "execution_count": 41,
     "metadata": {},
     "output_type": "execute_result"
    }
   ],
   "source": [
    "(X['amount_tsh'] > 1000).sum()"
   ]
  },
  {
   "cell_type": "markdown",
   "metadata": {},
   "source": [
    "##### Funder"
   ]
  },
  {
   "cell_type": "code",
   "execution_count": 42,
   "metadata": {
    "scrolled": false
   },
   "outputs": [
    {
     "data": {
      "text/plain": [
       "Government Of Tanzania            9084\n",
       "Danida                            3114\n",
       "Hesawa                            2202\n",
       "Rwssp                             1374\n",
       "World Bank                        1349\n",
       "Kkkt                              1287\n",
       "World Vision                      1246\n",
       "Unicef                            1057\n",
       "Tasaf                              877\n",
       "District Council                   843\n",
       "Dhv                                829\n",
       "Private Individual                 826\n",
       "Dwsp                               811\n",
       "0                                  777\n",
       "Norad                              765\n",
       "Germany Republi                    610\n",
       "Tcrs                               602\n",
       "Ministry Of Water                  590\n",
       "Water                              583\n",
       "Dwe                                484\n",
       "Netherlands                        470\n",
       "Hifab                              450\n",
       "Adb                                448\n",
       "Lga                                442\n",
       "Amref                              425\n",
       "Fini Water                         393\n",
       "Oxfam                              359\n",
       "Wateraid                           333\n",
       "Rc Church                          321\n",
       "Isf                                316\n",
       "Rudep                              312\n",
       "Mission                            301\n",
       "Private                            295\n",
       "Jaica                              280\n",
       "Roman                              275\n",
       "Rural Water Supply And Sanitat     270\n",
       "Adra                               263\n",
       "Ces(gmbh)                          260\n",
       "Jica                               259\n",
       "Shipo                              241\n",
       "Wsdp                               234\n",
       "Rc                                 230\n",
       "Finw                               219\n",
       "Dh                                 213\n",
       "Name: funder, dtype: int64"
      ]
     },
     "execution_count": 42,
     "metadata": {},
     "output_type": "execute_result"
    }
   ],
   "source": [
    "# Shows all categories with 200 wells or more, make an 'Other' column\n",
    "X['funder'].value_counts().head(44)"
   ]
  },
  {
   "cell_type": "markdown",
   "metadata": {},
   "source": [
    "##### Installer"
   ]
  },
  {
   "cell_type": "code",
   "execution_count": 43,
   "metadata": {
    "scrolled": true
   },
   "outputs": [
    {
     "data": {
      "text/plain": [
       "DWE                           17402\n",
       "Government                     1825\n",
       "RWE                            1206\n",
       "Commu                          1060\n",
       "DANIDA                         1050\n",
       "KKKT                            898\n",
       "Hesawa                          840\n",
       "0                               777\n",
       "TCRS                            707\n",
       "Central government              622\n",
       "CES                             610\n",
       "Community                       553\n",
       "DANID                           552\n",
       "District Council                551\n",
       "HESAWA                          539\n",
       "LGA                             408\n",
       "World vision                    408\n",
       "WEDECO                          397\n",
       "TASAF                           396\n",
       "District council                392\n",
       "Gover                           383\n",
       "AMREF                           329\n",
       "TWESA                           316\n",
       "WU                              301\n",
       "Dmdd                            287\n",
       "ACRA                            278\n",
       "World Vision                    270\n",
       "SEMA                            249\n",
       "DW                              246\n",
       "OXFAM                           234\n",
       "Da                              224\n",
       "Gove                            222\n",
       "UNICEF                          222\n",
       "Idara ya maji                   222\n",
       "Sengerema Water Department      214\n",
       "Kiliwater                       210\n",
       "NORAD                           208\n",
       "FinW                            208\n",
       "DH                              202\n",
       "Name: installer, dtype: int64"
      ]
     },
     "execution_count": 43,
     "metadata": {},
     "output_type": "execute_result"
    }
   ],
   "source": [
    "# Shows all categories with 200 wells or more, make an 'Other' column\n",
    "X['installer'].value_counts().head(39)"
   ]
  },
  {
   "cell_type": "markdown",
   "metadata": {},
   "source": [
    "##### Local Government Authority"
   ]
  },
  {
   "cell_type": "code",
   "execution_count": 44,
   "metadata": {
    "scrolled": true
   },
   "outputs": [
    {
     "data": {
      "text/plain": [
       "Njombe          2503\n",
       "Arusha Rural    1252\n",
       "Moshi Rural     1251\n",
       "Bariadi         1177\n",
       "Rungwe          1106\n",
       "                ... \n",
       "Kisarawe         223\n",
       "Temeke           215\n",
       "Rorya            210\n",
       "Tarime           209\n",
       "Ngorongoro       201\n",
       "Name: lga, Length: 102, dtype: int64"
      ]
     },
     "execution_count": 44,
     "metadata": {},
     "output_type": "execute_result"
    }
   ],
   "source": [
    "# It may be smart to make a new category that bundles together all the categories\n",
    "# with less than 200 observations, but probably not :(\n",
    "X['lga'].value_counts().head(102)"
   ]
  },
  {
   "cell_type": "markdown",
   "metadata": {},
   "source": [
    "#####  Ward"
   ]
  },
  {
   "cell_type": "code",
   "execution_count": 45,
   "metadata": {
    "scrolled": true
   },
   "outputs": [
    {
     "data": {
      "text/plain": [
       "Igosi               307\n",
       "Imalinyi            252\n",
       "Siha Kati           232\n",
       "Mdandu              231\n",
       "Nduruma             217\n",
       "                   ... \n",
       "Kinungu               1\n",
       "Mwanga Kaskazini      1\n",
       "Ikweha                1\n",
       "Matarawe              1\n",
       "Izia                  1\n",
       "Name: ward, Length: 2092, dtype: int64"
      ]
     },
     "execution_count": 45,
     "metadata": {},
     "output_type": "execute_result"
    }
   ],
   "source": [
    "# way too many different categories, this will probably not be useful outside of imputation\n",
    "X['ward'].value_counts()"
   ]
  },
  {
   "cell_type": "markdown",
   "metadata": {},
   "source": [
    "##### Scheme Management"
   ]
  },
  {
   "cell_type": "code",
   "execution_count": 46,
   "metadata": {
    "scrolled": true
   },
   "outputs": [
    {
     "data": {
      "text/plain": [
       "VWC                 36793\n",
       "WUG                  5206\n",
       "Water authority      3153\n",
       "WUA                  2883\n",
       "Water Board          2748\n",
       "Parastatal           1680\n",
       "Private operator     1063\n",
       "Company              1061\n",
       "Other                 766\n",
       "SWC                    97\n",
       "Trust                  72\n",
       "None                    1\n",
       "Name: scheme_management, dtype: int64"
      ]
     },
     "execution_count": 46,
     "metadata": {},
     "output_type": "execute_result"
    }
   ],
   "source": [
    "# take a look at the distribution of different categories\n",
    "X['scheme_management'].value_counts()"
   ]
  },
  {
   "cell_type": "code",
   "execution_count": 47,
   "metadata": {},
   "outputs": [
    {
     "data": {
      "text/plain": [
       "VWC                 36793\n",
       "WUG                  5206\n",
       "Other                4644\n",
       "Water authority      3153\n",
       "WUA                  2883\n",
       "Water Board          2748\n",
       "Parastatal           1680\n",
       "Private operator     1063\n",
       "Company              1061\n",
       "SWC                    97\n",
       "Trust                  72\n",
       "Name: scheme_management, dtype: int64"
      ]
     },
     "execution_count": 47,
     "metadata": {},
     "output_type": "execute_result"
    }
   ],
   "source": [
    "# Put None, Other, and NaN into one 'Other' category\n",
    "X['scheme_management'].replace(['None', np.NaN], 'Other', inplace=True)\n",
    "X['scheme_management'].value_counts()"
   ]
  },
  {
   "cell_type": "markdown",
   "metadata": {},
   "source": [
    "##### Payment"
   ]
  },
  {
   "cell_type": "code",
   "execution_count": 48,
   "metadata": {
    "scrolled": true
   },
   "outputs": [
    {
     "data": {
      "text/plain": [
       "never pay                25348\n",
       "pay per bucket            8985\n",
       "pay monthly               8300\n",
       "unknown                   8157\n",
       "pay when scheme fails     3914\n",
       "pay annually              3642\n",
       "other                     1054\n",
       "Name: payment, dtype: int64"
      ]
     },
     "execution_count": 48,
     "metadata": {},
     "output_type": "execute_result"
    }
   ],
   "source": [
    "X['payment'].value_counts()"
   ]
  },
  {
   "cell_type": "code",
   "execution_count": 49,
   "metadata": {},
   "outputs": [
    {
     "data": {
      "text/plain": [
       "never pay                25348\n",
       "other                     9211\n",
       "pay per bucket            8985\n",
       "pay monthly               8300\n",
       "pay when scheme fails     3914\n",
       "pay annually              3642\n",
       "Name: payment, dtype: int64"
      ]
     },
     "execution_count": 49,
     "metadata": {},
     "output_type": "execute_result"
    }
   ],
   "source": [
    "# combine other and unknown\n",
    "X['payment'].replace('unknown', 'other', inplace=True)\n",
    "X['payment'].value_counts()"
   ]
  },
  {
   "cell_type": "markdown",
   "metadata": {},
   "source": [
    "##### Management"
   ]
  },
  {
   "cell_type": "code",
   "execution_count": 50,
   "metadata": {
    "scrolled": true
   },
   "outputs": [
    {
     "data": {
      "text/plain": [
       "vwc                 40507\n",
       "wug                  6515\n",
       "water board          2933\n",
       "wua                  2535\n",
       "private operator     1971\n",
       "parastatal           1768\n",
       "water authority       904\n",
       "other                 844\n",
       "company               685\n",
       "unknown               561\n",
       "other - school         99\n",
       "trust                  78\n",
       "Name: management, dtype: int64"
      ]
     },
     "execution_count": 50,
     "metadata": {},
     "output_type": "execute_result"
    }
   ],
   "source": [
    "X['management'].value_counts()"
   ]
  },
  {
   "cell_type": "code",
   "execution_count": 51,
   "metadata": {},
   "outputs": [
    {
     "data": {
      "text/plain": [
       "vwc                 40507\n",
       "wug                  6515\n",
       "water board          2933\n",
       "wua                  2535\n",
       "private operator     1971\n",
       "parastatal           1768\n",
       "other                1405\n",
       "water authority       904\n",
       "company               685\n",
       "other - school         99\n",
       "trust                  78\n",
       "Name: management, dtype: int64"
      ]
     },
     "execution_count": 51,
     "metadata": {},
     "output_type": "execute_result"
    }
   ],
   "source": [
    "# combine other and unknown\n",
    "X['management'].replace('unknown', 'other', inplace=True)\n",
    "X['management'].value_counts()"
   ]
  },
  {
   "cell_type": "markdown",
   "metadata": {},
   "source": [
    "##### Water Quality"
   ]
  },
  {
   "cell_type": "code",
   "execution_count": 52,
   "metadata": {
    "scrolled": true
   },
   "outputs": [
    {
     "data": {
      "text/plain": [
       "soft                  50818\n",
       "salty                  4856\n",
       "unknown                1876\n",
       "milky                   804\n",
       "coloured                490\n",
       "salty abandoned         339\n",
       "fluoride                200\n",
       "fluoride abandoned       17\n",
       "Name: water_quality, dtype: int64"
      ]
     },
     "execution_count": 52,
     "metadata": {},
     "output_type": "execute_result"
    }
   ],
   "source": [
    "X['water_quality'].value_counts()"
   ]
  },
  {
   "cell_type": "code",
   "execution_count": 53,
   "metadata": {},
   "outputs": [
    {
     "data": {
      "text/plain": [
       "soft         50818\n",
       "salty         4856\n",
       "unknown       1876\n",
       "milky          804\n",
       "coloured       490\n",
       "abandoned      356\n",
       "fluoride       200\n",
       "Name: water_quality, dtype: int64"
      ]
     },
     "execution_count": 53,
     "metadata": {},
     "output_type": "execute_result"
    }
   ],
   "source": [
    "# combine salty abandoned and flouride abandoned\n",
    "X['water_quality'].replace(['salty abandoned', 'fluoride abandoned'], 'abandoned', inplace=True)\n",
    "X['water_quality'].value_counts()"
   ]
  },
  {
   "cell_type": "markdown",
   "metadata": {},
   "source": [
    "##### Source"
   ]
  },
  {
   "cell_type": "code",
   "execution_count": 54,
   "metadata": {
    "scrolled": true
   },
   "outputs": [
    {
     "data": {
      "text/plain": [
       "spring                  17021\n",
       "shallow well            16824\n",
       "machine dbh             11075\n",
       "river                    9612\n",
       "rainwater harvesting     2295\n",
       "hand dtw                  874\n",
       "lake                      765\n",
       "dam                       656\n",
       "other                     212\n",
       "unknown                    66\n",
       "Name: source, dtype: int64"
      ]
     },
     "execution_count": 54,
     "metadata": {},
     "output_type": "execute_result"
    }
   ],
   "source": [
    "X['source'].value_counts()"
   ]
  },
  {
   "cell_type": "code",
   "execution_count": 55,
   "metadata": {
    "scrolled": true
   },
   "outputs": [
    {
     "data": {
      "text/plain": [
       "spring                  17021\n",
       "shallow well            16824\n",
       "machine dbh             11075\n",
       "river                    9612\n",
       "rainwater harvesting     2295\n",
       "hand dtw                  874\n",
       "lake                      765\n",
       "dam                       656\n",
       "other                     278\n",
       "Name: source, dtype: int64"
      ]
     },
     "execution_count": 55,
     "metadata": {},
     "output_type": "execute_result"
    }
   ],
   "source": [
    "# combine unknown and other\n",
    "X['source'].replace('unknown', 'other', inplace=True)\n",
    "X['source'].value_counts()"
   ]
  },
  {
   "cell_type": "code",
   "execution_count": 56,
   "metadata": {},
   "outputs": [
    {
     "data": {
      "text/plain": [
       "groundwater    45794\n",
       "surface        13328\n",
       "unknown          278\n",
       "Name: source_class, dtype: int64"
      ]
     },
     "execution_count": 56,
     "metadata": {},
     "output_type": "execute_result"
    }
   ],
   "source": [
    "# source class will be useful for understanding, but shouldn't be used in the models\n",
    "X['source_class'].value_counts()"
   ]
  },
  {
   "cell_type": "code",
   "execution_count": 57,
   "metadata": {
    "scrolled": true
   },
   "outputs": [
    {
     "data": {
      "text/plain": [
       "source                source_class\n",
       "dam                   surface           656\n",
       "hand dtw              groundwater       874\n",
       "lake                  surface           765\n",
       "machine dbh           groundwater     11075\n",
       "other                 unknown           278\n",
       "rainwater harvesting  surface          2295\n",
       "river                 surface          9612\n",
       "shallow well          groundwater     16824\n",
       "spring                groundwater     17021\n",
       "Name: source_class, dtype: int64"
      ]
     },
     "execution_count": 57,
     "metadata": {},
     "output_type": "execute_result"
    }
   ],
   "source": [
    "# We see that all the information from source will be contained in source_class\n",
    "X.groupby('source')['source_class'].value_counts()"
   ]
  },
  {
   "cell_type": "markdown",
   "metadata": {},
   "source": [
    "##### Waterpoint Type"
   ]
  },
  {
   "cell_type": "markdown",
   "metadata": {},
   "source": [
    "### Remove Zeroes"
   ]
  },
  {
   "cell_type": "markdown",
   "metadata": {},
   "source": [
    "#### Observation Removal"
   ]
  },
  {
   "cell_type": "code",
   "execution_count": 58,
   "metadata": {},
   "outputs": [
    {
     "data": {
      "text/html": [
       "<div>\n",
       "<style scoped>\n",
       "    .dataframe tbody tr th:only-of-type {\n",
       "        vertical-align: middle;\n",
       "    }\n",
       "\n",
       "    .dataframe tbody tr th {\n",
       "        vertical-align: top;\n",
       "    }\n",
       "\n",
       "    .dataframe thead th {\n",
       "        text-align: right;\n",
       "    }\n",
       "</style>\n",
       "<table border=\"1\" class=\"dataframe\">\n",
       "  <thead>\n",
       "    <tr style=\"text-align: right;\">\n",
       "      <th></th>\n",
       "      <th>id</th>\n",
       "      <th>amount_tsh</th>\n",
       "      <th>funder</th>\n",
       "      <th>gps_height</th>\n",
       "      <th>installer</th>\n",
       "      <th>longitude</th>\n",
       "      <th>latitude</th>\n",
       "      <th>basin</th>\n",
       "      <th>region</th>\n",
       "      <th>lga</th>\n",
       "      <th>ward</th>\n",
       "      <th>population</th>\n",
       "      <th>public_meeting</th>\n",
       "      <th>scheme_management</th>\n",
       "      <th>permit</th>\n",
       "      <th>construction_year</th>\n",
       "      <th>extraction_type_group</th>\n",
       "      <th>management</th>\n",
       "      <th>payment</th>\n",
       "      <th>water_quality</th>\n",
       "      <th>quantity</th>\n",
       "      <th>source</th>\n",
       "      <th>source_class</th>\n",
       "      <th>waterpoint_type</th>\n",
       "      <th>status_group</th>\n",
       "    </tr>\n",
       "  </thead>\n",
       "  <tbody>\n",
       "    <tr>\n",
       "      <th>0</th>\n",
       "      <td>69572</td>\n",
       "      <td>6000.0</td>\n",
       "      <td>Roman</td>\n",
       "      <td>1390</td>\n",
       "      <td>Roman</td>\n",
       "      <td>34.938093</td>\n",
       "      <td>-9.856322</td>\n",
       "      <td>Lake Nyasa</td>\n",
       "      <td>Iringa</td>\n",
       "      <td>Ludewa</td>\n",
       "      <td>Mundindi</td>\n",
       "      <td>109</td>\n",
       "      <td>True</td>\n",
       "      <td>VWC</td>\n",
       "      <td>False</td>\n",
       "      <td>1999</td>\n",
       "      <td>gravity</td>\n",
       "      <td>vwc</td>\n",
       "      <td>pay annually</td>\n",
       "      <td>soft</td>\n",
       "      <td>enough</td>\n",
       "      <td>spring</td>\n",
       "      <td>groundwater</td>\n",
       "      <td>communal standpipe</td>\n",
       "      <td>functional</td>\n",
       "    </tr>\n",
       "    <tr>\n",
       "      <th>1</th>\n",
       "      <td>8776</td>\n",
       "      <td>0.0</td>\n",
       "      <td>Grumeti</td>\n",
       "      <td>1399</td>\n",
       "      <td>GRUMETI</td>\n",
       "      <td>34.698766</td>\n",
       "      <td>-2.147466</td>\n",
       "      <td>Lake Victoria</td>\n",
       "      <td>Mara</td>\n",
       "      <td>Serengeti</td>\n",
       "      <td>Natta</td>\n",
       "      <td>280</td>\n",
       "      <td>NaN</td>\n",
       "      <td>Other</td>\n",
       "      <td>True</td>\n",
       "      <td>2010</td>\n",
       "      <td>gravity</td>\n",
       "      <td>wug</td>\n",
       "      <td>never pay</td>\n",
       "      <td>soft</td>\n",
       "      <td>insufficient</td>\n",
       "      <td>rainwater harvesting</td>\n",
       "      <td>surface</td>\n",
       "      <td>communal standpipe</td>\n",
       "      <td>functional</td>\n",
       "    </tr>\n",
       "    <tr>\n",
       "      <th>2</th>\n",
       "      <td>34310</td>\n",
       "      <td>25.0</td>\n",
       "      <td>Lottery Club</td>\n",
       "      <td>686</td>\n",
       "      <td>World vision</td>\n",
       "      <td>37.460664</td>\n",
       "      <td>-3.821329</td>\n",
       "      <td>Pangani</td>\n",
       "      <td>Manyara</td>\n",
       "      <td>Simanjiro</td>\n",
       "      <td>Ngorika</td>\n",
       "      <td>250</td>\n",
       "      <td>True</td>\n",
       "      <td>VWC</td>\n",
       "      <td>True</td>\n",
       "      <td>2009</td>\n",
       "      <td>gravity</td>\n",
       "      <td>vwc</td>\n",
       "      <td>pay per bucket</td>\n",
       "      <td>soft</td>\n",
       "      <td>enough</td>\n",
       "      <td>dam</td>\n",
       "      <td>surface</td>\n",
       "      <td>communal standpipe multiple</td>\n",
       "      <td>functional</td>\n",
       "    </tr>\n",
       "    <tr>\n",
       "      <th>3</th>\n",
       "      <td>67743</td>\n",
       "      <td>0.0</td>\n",
       "      <td>Unicef</td>\n",
       "      <td>263</td>\n",
       "      <td>UNICEF</td>\n",
       "      <td>38.486161</td>\n",
       "      <td>-11.155298</td>\n",
       "      <td>Ruvuma / Southern Coast</td>\n",
       "      <td>Mtwara</td>\n",
       "      <td>Nanyumbu</td>\n",
       "      <td>Nanyumbu</td>\n",
       "      <td>58</td>\n",
       "      <td>True</td>\n",
       "      <td>VWC</td>\n",
       "      <td>True</td>\n",
       "      <td>1986</td>\n",
       "      <td>submersible</td>\n",
       "      <td>vwc</td>\n",
       "      <td>never pay</td>\n",
       "      <td>soft</td>\n",
       "      <td>dry</td>\n",
       "      <td>machine dbh</td>\n",
       "      <td>groundwater</td>\n",
       "      <td>communal standpipe multiple</td>\n",
       "      <td>non functional</td>\n",
       "    </tr>\n",
       "    <tr>\n",
       "      <th>4</th>\n",
       "      <td>19728</td>\n",
       "      <td>0.0</td>\n",
       "      <td>Action In A</td>\n",
       "      <td>0</td>\n",
       "      <td>Artisan</td>\n",
       "      <td>31.130847</td>\n",
       "      <td>-1.825359</td>\n",
       "      <td>Lake Victoria</td>\n",
       "      <td>Kagera</td>\n",
       "      <td>Karagwe</td>\n",
       "      <td>Nyakasimbi</td>\n",
       "      <td>0</td>\n",
       "      <td>True</td>\n",
       "      <td>Other</td>\n",
       "      <td>True</td>\n",
       "      <td>0</td>\n",
       "      <td>gravity</td>\n",
       "      <td>other</td>\n",
       "      <td>never pay</td>\n",
       "      <td>soft</td>\n",
       "      <td>seasonal</td>\n",
       "      <td>rainwater harvesting</td>\n",
       "      <td>surface</td>\n",
       "      <td>communal standpipe</td>\n",
       "      <td>functional</td>\n",
       "    </tr>\n",
       "    <tr>\n",
       "      <th>...</th>\n",
       "      <td>...</td>\n",
       "      <td>...</td>\n",
       "      <td>...</td>\n",
       "      <td>...</td>\n",
       "      <td>...</td>\n",
       "      <td>...</td>\n",
       "      <td>...</td>\n",
       "      <td>...</td>\n",
       "      <td>...</td>\n",
       "      <td>...</td>\n",
       "      <td>...</td>\n",
       "      <td>...</td>\n",
       "      <td>...</td>\n",
       "      <td>...</td>\n",
       "      <td>...</td>\n",
       "      <td>...</td>\n",
       "      <td>...</td>\n",
       "      <td>...</td>\n",
       "      <td>...</td>\n",
       "      <td>...</td>\n",
       "      <td>...</td>\n",
       "      <td>...</td>\n",
       "      <td>...</td>\n",
       "      <td>...</td>\n",
       "      <td>...</td>\n",
       "    </tr>\n",
       "    <tr>\n",
       "      <th>59395</th>\n",
       "      <td>60739</td>\n",
       "      <td>10.0</td>\n",
       "      <td>Germany Republi</td>\n",
       "      <td>1210</td>\n",
       "      <td>CES</td>\n",
       "      <td>37.169807</td>\n",
       "      <td>-3.253847</td>\n",
       "      <td>Pangani</td>\n",
       "      <td>Kilimanjaro</td>\n",
       "      <td>Hai</td>\n",
       "      <td>Masama Magharibi</td>\n",
       "      <td>125</td>\n",
       "      <td>True</td>\n",
       "      <td>Water Board</td>\n",
       "      <td>True</td>\n",
       "      <td>1999</td>\n",
       "      <td>gravity</td>\n",
       "      <td>water board</td>\n",
       "      <td>pay per bucket</td>\n",
       "      <td>soft</td>\n",
       "      <td>enough</td>\n",
       "      <td>spring</td>\n",
       "      <td>groundwater</td>\n",
       "      <td>communal standpipe</td>\n",
       "      <td>functional</td>\n",
       "    </tr>\n",
       "    <tr>\n",
       "      <th>59396</th>\n",
       "      <td>27263</td>\n",
       "      <td>4700.0</td>\n",
       "      <td>Cefa-njombe</td>\n",
       "      <td>1212</td>\n",
       "      <td>Cefa</td>\n",
       "      <td>35.249991</td>\n",
       "      <td>-9.070629</td>\n",
       "      <td>Rufiji</td>\n",
       "      <td>Iringa</td>\n",
       "      <td>Njombe</td>\n",
       "      <td>Ikondo</td>\n",
       "      <td>56</td>\n",
       "      <td>True</td>\n",
       "      <td>VWC</td>\n",
       "      <td>True</td>\n",
       "      <td>1996</td>\n",
       "      <td>gravity</td>\n",
       "      <td>vwc</td>\n",
       "      <td>pay annually</td>\n",
       "      <td>soft</td>\n",
       "      <td>enough</td>\n",
       "      <td>river</td>\n",
       "      <td>surface</td>\n",
       "      <td>communal standpipe</td>\n",
       "      <td>functional</td>\n",
       "    </tr>\n",
       "    <tr>\n",
       "      <th>59397</th>\n",
       "      <td>37057</td>\n",
       "      <td>0.0</td>\n",
       "      <td>NaN</td>\n",
       "      <td>0</td>\n",
       "      <td>NaN</td>\n",
       "      <td>34.017087</td>\n",
       "      <td>-8.750434</td>\n",
       "      <td>Rufiji</td>\n",
       "      <td>Mbeya</td>\n",
       "      <td>Mbarali</td>\n",
       "      <td>Chimala</td>\n",
       "      <td>0</td>\n",
       "      <td>True</td>\n",
       "      <td>VWC</td>\n",
       "      <td>False</td>\n",
       "      <td>0</td>\n",
       "      <td>swn 80</td>\n",
       "      <td>vwc</td>\n",
       "      <td>pay monthly</td>\n",
       "      <td>fluoride</td>\n",
       "      <td>enough</td>\n",
       "      <td>machine dbh</td>\n",
       "      <td>groundwater</td>\n",
       "      <td>hand pump</td>\n",
       "      <td>functional</td>\n",
       "    </tr>\n",
       "    <tr>\n",
       "      <th>59398</th>\n",
       "      <td>31282</td>\n",
       "      <td>0.0</td>\n",
       "      <td>Malec</td>\n",
       "      <td>0</td>\n",
       "      <td>Musa</td>\n",
       "      <td>35.861315</td>\n",
       "      <td>-6.378573</td>\n",
       "      <td>Rufiji</td>\n",
       "      <td>Dodoma</td>\n",
       "      <td>Chamwino</td>\n",
       "      <td>Mvumi Makulu</td>\n",
       "      <td>0</td>\n",
       "      <td>True</td>\n",
       "      <td>VWC</td>\n",
       "      <td>True</td>\n",
       "      <td>0</td>\n",
       "      <td>nira/tanira</td>\n",
       "      <td>vwc</td>\n",
       "      <td>never pay</td>\n",
       "      <td>soft</td>\n",
       "      <td>insufficient</td>\n",
       "      <td>shallow well</td>\n",
       "      <td>groundwater</td>\n",
       "      <td>hand pump</td>\n",
       "      <td>functional</td>\n",
       "    </tr>\n",
       "    <tr>\n",
       "      <th>59399</th>\n",
       "      <td>26348</td>\n",
       "      <td>0.0</td>\n",
       "      <td>World Bank</td>\n",
       "      <td>191</td>\n",
       "      <td>World</td>\n",
       "      <td>38.104048</td>\n",
       "      <td>-6.747464</td>\n",
       "      <td>Wami / Ruvu</td>\n",
       "      <td>Morogoro</td>\n",
       "      <td>Morogoro Rural</td>\n",
       "      <td>Ngerengere</td>\n",
       "      <td>150</td>\n",
       "      <td>True</td>\n",
       "      <td>VWC</td>\n",
       "      <td>True</td>\n",
       "      <td>2002</td>\n",
       "      <td>nira/tanira</td>\n",
       "      <td>vwc</td>\n",
       "      <td>pay when scheme fails</td>\n",
       "      <td>salty</td>\n",
       "      <td>enough</td>\n",
       "      <td>shallow well</td>\n",
       "      <td>groundwater</td>\n",
       "      <td>hand pump</td>\n",
       "      <td>functional</td>\n",
       "    </tr>\n",
       "  </tbody>\n",
       "</table>\n",
       "<p>59400 rows × 25 columns</p>\n",
       "</div>"
      ],
      "text/plain": [
       "          id  amount_tsh           funder  gps_height     installer  \\\n",
       "0      69572      6000.0            Roman        1390         Roman   \n",
       "1       8776         0.0          Grumeti        1399       GRUMETI   \n",
       "2      34310        25.0     Lottery Club         686  World vision   \n",
       "3      67743         0.0           Unicef         263        UNICEF   \n",
       "4      19728         0.0      Action In A           0       Artisan   \n",
       "...      ...         ...              ...         ...           ...   \n",
       "59395  60739        10.0  Germany Republi        1210           CES   \n",
       "59396  27263      4700.0      Cefa-njombe        1212          Cefa   \n",
       "59397  37057         0.0              NaN           0           NaN   \n",
       "59398  31282         0.0            Malec           0          Musa   \n",
       "59399  26348         0.0       World Bank         191         World   \n",
       "\n",
       "       longitude   latitude                    basin       region  \\\n",
       "0      34.938093  -9.856322               Lake Nyasa       Iringa   \n",
       "1      34.698766  -2.147466            Lake Victoria         Mara   \n",
       "2      37.460664  -3.821329                  Pangani      Manyara   \n",
       "3      38.486161 -11.155298  Ruvuma / Southern Coast       Mtwara   \n",
       "4      31.130847  -1.825359            Lake Victoria       Kagera   \n",
       "...          ...        ...                      ...          ...   \n",
       "59395  37.169807  -3.253847                  Pangani  Kilimanjaro   \n",
       "59396  35.249991  -9.070629                   Rufiji       Iringa   \n",
       "59397  34.017087  -8.750434                   Rufiji        Mbeya   \n",
       "59398  35.861315  -6.378573                   Rufiji       Dodoma   \n",
       "59399  38.104048  -6.747464              Wami / Ruvu     Morogoro   \n",
       "\n",
       "                  lga              ward  population public_meeting  \\\n",
       "0              Ludewa          Mundindi         109           True   \n",
       "1           Serengeti             Natta         280            NaN   \n",
       "2           Simanjiro           Ngorika         250           True   \n",
       "3            Nanyumbu          Nanyumbu          58           True   \n",
       "4             Karagwe        Nyakasimbi           0           True   \n",
       "...               ...               ...         ...            ...   \n",
       "59395             Hai  Masama Magharibi         125           True   \n",
       "59396          Njombe            Ikondo          56           True   \n",
       "59397         Mbarali           Chimala           0           True   \n",
       "59398        Chamwino      Mvumi Makulu           0           True   \n",
       "59399  Morogoro Rural        Ngerengere         150           True   \n",
       "\n",
       "      scheme_management permit  construction_year extraction_type_group  \\\n",
       "0                   VWC  False               1999               gravity   \n",
       "1                 Other   True               2010               gravity   \n",
       "2                   VWC   True               2009               gravity   \n",
       "3                   VWC   True               1986           submersible   \n",
       "4                 Other   True                  0               gravity   \n",
       "...                 ...    ...                ...                   ...   \n",
       "59395       Water Board   True               1999               gravity   \n",
       "59396               VWC   True               1996               gravity   \n",
       "59397               VWC  False                  0                swn 80   \n",
       "59398               VWC   True                  0           nira/tanira   \n",
       "59399               VWC   True               2002           nira/tanira   \n",
       "\n",
       "        management                payment water_quality      quantity  \\\n",
       "0              vwc           pay annually          soft        enough   \n",
       "1              wug              never pay          soft  insufficient   \n",
       "2              vwc         pay per bucket          soft        enough   \n",
       "3              vwc              never pay          soft           dry   \n",
       "4            other              never pay          soft      seasonal   \n",
       "...            ...                    ...           ...           ...   \n",
       "59395  water board         pay per bucket          soft        enough   \n",
       "59396          vwc           pay annually          soft        enough   \n",
       "59397          vwc            pay monthly      fluoride        enough   \n",
       "59398          vwc              never pay          soft  insufficient   \n",
       "59399          vwc  pay when scheme fails         salty        enough   \n",
       "\n",
       "                     source source_class              waterpoint_type  \\\n",
       "0                    spring  groundwater           communal standpipe   \n",
       "1      rainwater harvesting      surface           communal standpipe   \n",
       "2                       dam      surface  communal standpipe multiple   \n",
       "3               machine dbh  groundwater  communal standpipe multiple   \n",
       "4      rainwater harvesting      surface           communal standpipe   \n",
       "...                     ...          ...                          ...   \n",
       "59395                spring  groundwater           communal standpipe   \n",
       "59396                 river      surface           communal standpipe   \n",
       "59397           machine dbh  groundwater                    hand pump   \n",
       "59398          shallow well  groundwater                    hand pump   \n",
       "59399          shallow well  groundwater                    hand pump   \n",
       "\n",
       "         status_group  \n",
       "0          functional  \n",
       "1          functional  \n",
       "2          functional  \n",
       "3      non functional  \n",
       "4          functional  \n",
       "...               ...  \n",
       "59395      functional  \n",
       "59396      functional  \n",
       "59397      functional  \n",
       "59398      functional  \n",
       "59399      functional  \n",
       "\n",
       "[59400 rows x 25 columns]"
      ]
     },
     "execution_count": 58,
     "metadata": {},
     "output_type": "execute_result"
    }
   ],
   "source": [
    "# df is still contains 59,400 wells\n",
    "df = X.merge(y, on='id', how='inner')\n",
    "df"
   ]
  },
  {
   "cell_type": "code",
   "execution_count": 59,
   "metadata": {},
   "outputs": [],
   "source": [
    "# This removes all the observations where all the numerical values are zero\n",
    "df_zero = df[(df['construction_year'] != 0) | (df['population'] != 0) | (df['amount_tsh'] != 0) | (df['gps_height'] != 0)]\n",
    "# make a new X and y\n",
    "X_zero = df_zero.drop('status_group', axis=1)\n",
    "y_zero = df_zero['status_group']"
   ]
  },
  {
   "cell_type": "code",
   "execution_count": 60,
   "metadata": {
    "scrolled": true
   },
   "outputs": [
    {
     "data": {
      "text/plain": [
       "id                          0\n",
       "amount_tsh                  0\n",
       "funder                   1523\n",
       "gps_height                  0\n",
       "installer                1528\n",
       "longitude                   0\n",
       "latitude                    0\n",
       "basin                       0\n",
       "region                      0\n",
       "lga                         0\n",
       "ward                        0\n",
       "population                  0\n",
       "public_meeting           2355\n",
       "scheme_management           0\n",
       "permit                   1950\n",
       "construction_year           0\n",
       "extraction_type_group       0\n",
       "management                  0\n",
       "payment                     0\n",
       "water_quality               0\n",
       "quantity                    0\n",
       "source                      0\n",
       "source_class                0\n",
       "waterpoint_type             0\n",
       "status_group                0\n",
       "dtype: int64"
      ]
     },
     "execution_count": 60,
     "metadata": {},
     "output_type": "execute_result"
    }
   ],
   "source": [
    "df_zero.isna().sum()"
   ]
  },
  {
   "cell_type": "markdown",
   "metadata": {},
   "source": [
    "### Post-split Cleaning"
   ]
  },
  {
   "cell_type": "code",
   "execution_count": 61,
   "metadata": {},
   "outputs": [],
   "source": [
    "# trian-test split w/o zeroes\n",
    "X_train, X_test, y_train, y_test = train_test_split(X_zero, y_zero, random_state=42, test_size=.2)"
   ]
  },
  {
   "cell_type": "code",
   "execution_count": 62,
   "metadata": {
    "scrolled": true
   },
   "outputs": [],
   "source": [
    "# reorder the dataframe columns to make it easier to work with\n",
    "# we want all the numerical columns first and then the categorical columns\n",
    "num_cols = X_train.select_dtypes(include=['float', 'int', 'int64']).columns\n",
    "cat_cols = X_train.select_dtypes(exclude=['float', 'int', 'int64']).columns\n",
    "cols = num_cols.append(cat_cols)\n",
    "\n",
    "X_train = X_train.reindex(columns=cols)\n",
    "X_test = X_test.reindex(columns=cols)"
   ]
  },
  {
   "cell_type": "code",
   "execution_count": 63,
   "metadata": {},
   "outputs": [],
   "source": [
    "# get rid of the unnecessary columns \n",
    "X_train_trim = X_train.drop(['id', 'funder', 'installer', 'lga', 'ward', 'source_class'], axis=1)\n",
    "X_test_trim = X_test.drop(['id', 'funder', 'installer', 'lga', 'ward', 'source_class'], axis=1)\n"
   ]
  },
  {
   "cell_type": "code",
   "execution_count": 64,
   "metadata": {},
   "outputs": [],
   "source": [
    "# create a subpipe that will transform the numerical variables\n",
    "num_subpipe = Pipeline([\n",
    "    ('scale', RobustScaler())\n",
    "])"
   ]
  },
  {
   "cell_type": "code",
   "execution_count": 65,
   "metadata": {},
   "outputs": [],
   "source": [
    "# create a subpipe that will transform the categorical variables\n",
    "cat_subpipe = Pipeline([\n",
    "    ('impute', SimpleImputer(strategy='most_frequent')),\n",
    "    ('ohe', OneHotEncoder(sparse=False, drop='first'))\n",
    "])"
   ]
  },
  {
   "cell_type": "markdown",
   "metadata": {},
   "source": [
    "## Dummy Classifier"
   ]
  },
  {
   "cell_type": "markdown",
   "metadata": {},
   "source": [
    "First, I needed to set up a base model that we will compare all the rest of our models with. I set up the baseline with the DummyClassifier object from Sci-Kit Learn using the most frequent classification as the prediction every time. This model resulted in an accuracy score of .556, so each models success will be measured in relation to this score."
   ]
  },
  {
   "cell_type": "code",
   "execution_count": 66,
   "metadata": {
    "scrolled": true
   },
   "outputs": [
    {
     "name": "stderr",
     "output_type": "stream",
     "text": [
      "C:\\Users\\TWood\\anaconda3\\envs\\learn-env\\lib\\site-packages\\sklearn\\utils\\validation.py:67: FutureWarning: Pass strategy=most_frequent as keyword args. From version 0.25 passing these as positional arguments will result in an error\n",
      "  warnings.warn(\"Pass {} as keyword args. From version 0.25 \"\n"
     ]
    },
    {
     "data": {
      "text/plain": [
       "DummyClassifier(strategy='most_frequent')"
      ]
     },
     "execution_count": 66,
     "metadata": {},
     "output_type": "execute_result"
    }
   ],
   "source": [
    "# instantiated a DummyClassifier with most_frequent as the strategy\n",
    "dc = DummyClassifier('most_frequent')\n",
    "# fit the classifier on the training data\n",
    "dc.fit(X_train_trim, y_train)"
   ]
  },
  {
   "cell_type": "code",
   "execution_count": 67,
   "metadata": {},
   "outputs": [
    {
     "data": {
      "text/plain": [
       "0.560767657700173"
      ]
     },
     "execution_count": 67,
     "metadata": {},
     "output_type": "execute_result"
    }
   ],
   "source": [
    "# find the accuracy of our model with the training data\n",
    "dc.score(X_train_trim, y_train)"
   ]
  },
  {
   "cell_type": "code",
   "execution_count": 68,
   "metadata": {},
   "outputs": [
    {
     "data": {
      "text/plain": [
       "0.5555555555555556"
      ]
     },
     "execution_count": 68,
     "metadata": {},
     "output_type": "execute_result"
    }
   ],
   "source": [
    "# find the accuracy of our model with the testing data\n",
    "dc.score(X_test_trim, y_test)"
   ]
  },
  {
   "cell_type": "markdown",
   "metadata": {},
   "source": [
    "## First Model"
   ]
  },
  {
   "cell_type": "markdown",
   "metadata": {},
   "source": [
    "An intuitive algorithm for an effective, but simple first model would be a decision tree classifier. I'll tune the max depth of the tree to prevent too much overfitting. An effective tree will still be too large to graph, but the feature_importances_ attribute should give a good idea of which variables are most effectively sorting the wells. "
   ]
  },
  {
   "cell_type": "code",
   "execution_count": 69,
   "metadata": {},
   "outputs": [],
   "source": [
    "# use the two subpipes from above to make a column transformer\n",
    "num_index = list(range(0,6))\n",
    "cat_index = list(range(6,18))\n",
    "CT = ColumnTransformer([\n",
    "    ('num', num_subpipe, num_index),\n",
    "    ('cat', cat_subpipe, cat_index),\n",
    "])"
   ]
  },
  {
   "cell_type": "code",
   "execution_count": 70,
   "metadata": {},
   "outputs": [],
   "source": [
    "# create a pipeline for a decision tree classifier with a max depth of 10\n",
    "dtpipe = Pipeline(steps=[\n",
    "    ('ct', CT),\n",
    "    ('tree', DecisionTreeClassifier(max_depth=10, random_state=42))\n",
    "])"
   ]
  },
  {
   "cell_type": "code",
   "execution_count": 71,
   "metadata": {
    "scrolled": false
   },
   "outputs": [
    {
     "data": {
      "text/plain": [
       "Pipeline(steps=[('ct',\n",
       "                 ColumnTransformer(transformers=[('num',\n",
       "                                                  Pipeline(steps=[('scale',\n",
       "                                                                   RobustScaler())]),\n",
       "                                                  [0, 1, 2, 3, 4, 5]),\n",
       "                                                 ('cat',\n",
       "                                                  Pipeline(steps=[('impute',\n",
       "                                                                   SimpleImputer(strategy='most_frequent')),\n",
       "                                                                  ('ohe',\n",
       "                                                                   OneHotEncoder(drop='first',\n",
       "                                                                                 sparse=False))]),\n",
       "                                                  [6, 7, 8, 9, 10, 11, 12, 13,\n",
       "                                                   14, 15, 16, 17])])),\n",
       "                ('tree',\n",
       "                 DecisionTreeClassifier(max_depth=10, random_state=42))])"
      ]
     },
     "execution_count": 71,
     "metadata": {},
     "output_type": "execute_result"
    }
   ],
   "source": [
    "# fit the pipe to the training data\n",
    "dtpipe.fit(X_train_trim, y_train)"
   ]
  },
  {
   "cell_type": "code",
   "execution_count": 72,
   "metadata": {
    "scrolled": false
   },
   "outputs": [
    {
     "data": {
      "text/plain": [
       "0.766084631115306"
      ]
     },
     "execution_count": 72,
     "metadata": {},
     "output_type": "execute_result"
    }
   ],
   "source": [
    "# average cross validated score\n",
    "cross_val_score(dtpipe, X_train_trim, y_train).mean()"
   ]
  },
  {
   "cell_type": "code",
   "execution_count": 73,
   "metadata": {},
   "outputs": [
    {
     "data": {
      "text/plain": [
       "0.7980493943684128"
      ]
     },
     "execution_count": 73,
     "metadata": {},
     "output_type": "execute_result"
    }
   ],
   "source": [
    "# measure of the classifiers accuracy on training data\n",
    "dtpipe.score(X_train_trim, y_train)"
   ]
  },
  {
   "cell_type": "code",
   "execution_count": 74,
   "metadata": {
    "scrolled": true
   },
   "outputs": [
    {
     "data": {
      "text/plain": [
       "0.7612935699005914"
      ]
     },
     "execution_count": 74,
     "metadata": {},
     "output_type": "execute_result"
    }
   ],
   "source": [
    "# measure of the classifiers accuracy on testing data\n",
    "dtpipe.score(X_test_trim, y_test)"
   ]
  },
  {
   "cell_type": "code",
   "execution_count": null,
   "metadata": {},
   "outputs": [],
   "source": [
    "confusion_matrix()"
   ]
  },
  {
   "cell_type": "code",
   "execution_count": 75,
   "metadata": {
    "scrolled": true
   },
   "outputs": [],
   "source": [
    "# get the feature importances from the model\n",
    "importances = dtpipe.steps[1][1].feature_importances_"
   ]
  },
  {
   "cell_type": "code",
   "execution_count": 76,
   "metadata": {
    "scrolled": true
   },
   "outputs": [],
   "source": [
    "# get the column names from the one hot encoded \n",
    "ohe_cols = dtpipe.named_steps['ct'].transformers_[1][1].named_steps['ohe'].get_feature_names()"
   ]
  },
  {
   "cell_type": "code",
   "execution_count": 77,
   "metadata": {},
   "outputs": [],
   "source": [
    "# create a list of all the column names\n",
    "features = list(num_cols)[1:] + list(ohe_cols)"
   ]
  },
  {
   "cell_type": "code",
   "execution_count": 78,
   "metadata": {},
   "outputs": [
    {
     "data": {
      "text/plain": [
       "{'x11_other': 0.19457584697891608,\n",
       " 'x9_enough': 0.09584081771782849,\n",
       " 'x9_seasonal': 0.09565720731486685,\n",
       " 'construction_year': 0.0905302239328466,\n",
       " 'longitude': 0.07784196150717129,\n",
       " 'latitude': 0.07365595533802195,\n",
       " 'x9_insufficient': 0.05879551272514883,\n",
       " 'amount_tsh': 0.04100758545836181,\n",
       " 'population': 0.036390549452408986,\n",
       " 'gps_height': 0.03558203073508399,\n",
       " 'x1_Iringa': 0.03227710639393942,\n",
       " 'x11_communal standpipe': 0.026116837081136133,\n",
       " 'x11_communal standpipe multiple': 0.017801420637771126,\n",
       " 'x10_machine dbh': 0.009684144980604553,\n",
       " 'x5_submersible': 0.009447022201600923,\n",
       " 'x5_other': 0.007686988317372747,\n",
       " 'x6_vwc': 0.006963351606410768,\n",
       " 'x10_shallow well': 0.006009147216729226,\n",
       " 'x5_gravity': 0.005874854594941057,\n",
       " 'x3_Water Board': 0.005391570731377349,\n",
       " 'x3_Water authority': 0.0052621078315316224,\n",
       " 'x10_spring': 0.0043522109755251654,\n",
       " 'x9_unknown': 0.004233179423955998,\n",
       " 'x6_private operator': 0.0038910724752483,\n",
       " 'x0_Wami / Ruvu': 0.003543372209503395,\n",
       " 'x1_Ruvuma': 0.0029795079892139644,\n",
       " 'x1_Shinyanga': 0.0026067064316871663,\n",
       " 'x1_Tanga': 0.0025971889094035697,\n",
       " 'x10_river': 0.002495389242807167,\n",
       " 'x7_pay monthly': 0.002340363129852398,\n",
       " 'x11_hand pump': 0.0021037444236642164,\n",
       " 'x1_Kigoma': 0.0020797596833850166,\n",
       " 'x3_WUA': 0.001970650272503625,\n",
       " 'x10_lake': 0.001966185128388338,\n",
       " 'x4_True': 0.0018928807698514758,\n",
       " 'x8_soft': 0.0018519987650476594,\n",
       " 'x6_wug': 0.001849549921886411,\n",
       " 'x1_Mwanza': 0.0017056189526972153,\n",
       " 'x5_swn 80': 0.0015887618981599615,\n",
       " 'x1_Mara': 0.001577056748461795,\n",
       " 'x1_Morogoro': 0.0015563529471279945,\n",
       " 'x1_Singida': 0.0013228219929041969,\n",
       " 'x5_mono': 0.0013000780323341417,\n",
       " 'x7_other': 0.001275777857451105,\n",
       " 'x2_True': 0.0011032235253146255,\n",
       " 'x1_Manyara': 0.0010854811436279853,\n",
       " 'x7_pay when scheme fails': 0.0009602762609591172,\n",
       " 'x3_VWC': 0.0008790232502209132,\n",
       " 'x8_coloured': 0.000878163487118257,\n",
       " 'x1_Lindi': 0.0008411215827140028,\n",
       " 'x5_india mark ii': 0.0007976628502844912,\n",
       " 'x1_Mtwara': 0.0007091596152718859,\n",
       " 'x1_Kilimanjaro': 0.0006775936664215176,\n",
       " 'x0_Pangani': 0.0006513824963240298,\n",
       " 'x10_rainwater harvesting': 0.0006328084279871342,\n",
       " 'x3_Other': 0.0006094835619695893,\n",
       " 'x11_improved spring': 0.0005112796685386525,\n",
       " 'x6_other': 0.00045963445797100535,\n",
       " 'x8_unknown': 0.00044294856885902854,\n",
       " 'x0_Rufiji': 0.0004119898776076747,\n",
       " 'x5_rope pump': 0.0004118369208649631,\n",
       " 'x6_water board': 0.00038654938873600847,\n",
       " 'x1_Pwani': 0.0002674453677097933,\n",
       " 'x6_water authority': 0.0002537023055336099,\n",
       " 'x8_milky': 0.0002355051157684542,\n",
       " 'x3_WUG': 0.00022798622318346477,\n",
       " 'x3_Parastatal': 0.00021838820259230082,\n",
       " 'x7_pay per bucket': 0.00019707403867563476,\n",
       " 'x0_Lake Victoria': 0.00017628453110153297,\n",
       " 'x8_salty': 0.0001652667479076872,\n",
       " 'x10_other': 0.0001652667479076872,\n",
       " 'x5_nira/tanira': 0.00013469541572623707,\n",
       " 'x6_parastatal': 3.629561797248473e-05,\n",
       " 'x0_Lake Nyasa': 0.0,\n",
       " 'x0_Lake Rukwa': 0.0,\n",
       " 'x0_Lake Tanganyika': 0.0,\n",
       " 'x0_Ruvuma / Southern Coast': 0.0,\n",
       " 'x1_Dar es Salaam': 0.0,\n",
       " 'x1_Rukwa': 0.0,\n",
       " 'x3_Private operator': 0.0,\n",
       " 'x3_SWC': 0.0,\n",
       " 'x3_Trust': 0.0,\n",
       " 'x5_india mark iii': 0.0,\n",
       " 'x5_other handpump': 0.0,\n",
       " 'x5_other motorpump': 0.0,\n",
       " 'x5_wind-powered': 0.0,\n",
       " 'x6_other - school': 0.0,\n",
       " 'x6_trust': 0.0,\n",
       " 'x6_wua': 0.0,\n",
       " 'x7_pay annually': 0.0,\n",
       " 'x8_fluoride': 0.0,\n",
       " 'x10_hand dtw': 0.0,\n",
       " 'x11_dam': 0.0}"
      ]
     },
     "execution_count": 78,
     "metadata": {},
     "output_type": "execute_result"
    }
   ],
   "source": [
    "# zip together the column names with the corresponding feature importances\n",
    "feat_dict = dict(zip(features, importances))\n",
    "# then sort the dictionary by the values in descending order\n",
    "{k: v for k, v in sorted(feat_dict.items(), key=lambda item: item[1], reverse=True)}"
   ]
  },
  {
   "cell_type": "markdown",
   "metadata": {},
   "source": [
    "## Random Forest Classifier"
   ]
  },
  {
   "cell_type": "code",
   "execution_count": 79,
   "metadata": {},
   "outputs": [],
   "source": [
    "rfpipe = Pipeline([\n",
    "    ('ct', CT),\n",
    "    ('forest', RandomForestClassifier())\n",
    "])"
   ]
  },
  {
   "cell_type": "code",
   "execution_count": 80,
   "metadata": {
    "scrolled": false
   },
   "outputs": [
    {
     "data": {
      "text/plain": [
       "Pipeline(steps=[('ct',\n",
       "                 ColumnTransformer(transformers=[('num',\n",
       "                                                  Pipeline(steps=[('scale',\n",
       "                                                                   RobustScaler())]),\n",
       "                                                  [0, 1, 2, 3, 4, 5]),\n",
       "                                                 ('cat',\n",
       "                                                  Pipeline(steps=[('impute',\n",
       "                                                                   SimpleImputer(strategy='most_frequent')),\n",
       "                                                                  ('ohe',\n",
       "                                                                   OneHotEncoder(drop='first',\n",
       "                                                                                 sparse=False))]),\n",
       "                                                  [6, 7, 8, 9, 10, 11, 12, 13,\n",
       "                                                   14, 15, 16, 17])])),\n",
       "                ('forest', RandomForestClassifier())])"
      ]
     },
     "execution_count": 80,
     "metadata": {},
     "output_type": "execute_result"
    }
   ],
   "source": [
    "rfpipe.fit(X_train_trim, y_train)"
   ]
  },
  {
   "cell_type": "code",
   "execution_count": 81,
   "metadata": {
    "scrolled": false
   },
   "outputs": [
    {
     "data": {
      "text/plain": [
       "array([0.80604059, 0.80934403, 0.81343401, 0.81720938, 0.80336637])"
      ]
     },
     "execution_count": 81,
     "metadata": {},
     "output_type": "execute_result"
    }
   ],
   "source": [
    "cross_val_score(rfpipe, X_train_trim, y_train)"
   ]
  },
  {
   "cell_type": "code",
   "execution_count": 82,
   "metadata": {},
   "outputs": [
    {
     "data": {
      "text/plain": [
       "0.9999685386188454"
      ]
     },
     "execution_count": 82,
     "metadata": {},
     "output_type": "execute_result"
    }
   ],
   "source": [
    "rfpipe.score(X_train_trim, y_train)"
   ]
  },
  {
   "cell_type": "code",
   "execution_count": 83,
   "metadata": {
    "scrolled": true
   },
   "outputs": [
    {
     "data": {
      "text/plain": [
       "0.8138920347300869"
      ]
     },
     "execution_count": 83,
     "metadata": {},
     "output_type": "execute_result"
    }
   ],
   "source": [
    "rfpipe.score(X_test_trim, y_test)"
   ]
  },
  {
   "cell_type": "code",
   "execution_count": 84,
   "metadata": {
    "scrolled": true
   },
   "outputs": [],
   "source": [
    "# get the feature importances from the model\n",
    "importances = rfpipe.steps[1][1].feature_importances_"
   ]
  },
  {
   "cell_type": "code",
   "execution_count": 85,
   "metadata": {
    "scrolled": true
   },
   "outputs": [],
   "source": [
    "# get the column names from the one hot encoded \n",
    "ohe_cols = rfpipe.named_steps['ct'].transformers_[1][1].named_steps['ohe'].get_feature_names()"
   ]
  },
  {
   "cell_type": "code",
   "execution_count": 86,
   "metadata": {},
   "outputs": [],
   "source": [
    "# create a list of all the column names\n",
    "features = list(num_cols)[1:] + list(ohe_cols)"
   ]
  },
  {
   "cell_type": "code",
   "execution_count": 87,
   "metadata": {},
   "outputs": [
    {
     "data": {
      "text/plain": [
       "{'longitude': 0.12472990800400882,\n",
       " 'latitude': 0.12252530907837583,\n",
       " 'gps_height': 0.11040933748134102,\n",
       " 'construction_year': 0.09205370602588774,\n",
       " 'population': 0.07592475168523442,\n",
       " 'amount_tsh': 0.04596121915146198,\n",
       " 'x9_enough': 0.041253601068652036,\n",
       " 'x11_other': 0.033750982386586935,\n",
       " 'x5_other': 0.025556987553267865,\n",
       " 'x9_insufficient': 0.01726447000633435,\n",
       " 'x11_communal standpipe': 0.017015261686297387,\n",
       " 'x9_seasonal': 0.010984541680269022,\n",
       " 'x11_communal standpipe multiple': 0.010689680801452115,\n",
       " 'x4_True': 0.009895485916037072,\n",
       " 'x5_gravity': 0.009308434579385249,\n",
       " 'x11_hand pump': 0.009270759868876127,\n",
       " 'x10_spring': 0.009082227403311436,\n",
       " 'x6_vwc': 0.008897032114140543,\n",
       " 'x8_soft': 0.007987819403300069,\n",
       " 'x3_VWC': 0.007934519353003109,\n",
       " 'x7_pay monthly': 0.007182068694474999,\n",
       " 'x7_other': 0.007070987168362136,\n",
       " 'x8_unknown': 0.006927122882421636,\n",
       " 'x7_pay per bucket': 0.006882850501340296,\n",
       " 'x10_machine dbh': 0.00667049350895502,\n",
       " 'x10_shallow well': 0.0064907325953861205,\n",
       " 'x2_True': 0.006432414965355707,\n",
       " 'x10_river': 0.006241450297636081,\n",
       " 'x1_Iringa': 0.0061856939515139795,\n",
       " 'x5_submersible': 0.0051368127516790325,\n",
       " 'x0_Pangani': 0.005021842159255826,\n",
       " 'x5_nira/tanira': 0.0047923106443067895,\n",
       " 'x0_Ruvuma / Southern Coast': 0.004530707047613423,\n",
       " 'x0_Rufiji': 0.004390792970679537,\n",
       " 'x0_Lake Tanganyika': 0.004233482414560568,\n",
       " 'x8_salty': 0.004179607607110059,\n",
       " 'x7_pay when scheme fails': 0.004147183042616794,\n",
       " 'x7_pay annually': 0.004131878176637777,\n",
       " 'x0_Wami / Ruvu': 0.0038704595621251157,\n",
       " 'x6_private operator': 0.003730559221864287,\n",
       " 'x10_rainwater harvesting': 0.003630589040514867,\n",
       " 'x1_Kilimanjaro': 0.003580264249413957,\n",
       " 'x1_Kigoma': 0.0035499388615850462,\n",
       " 'x3_Water authority': 0.0035057625735928815,\n",
       " 'x5_mono': 0.003483355002262512,\n",
       " 'x1_Morogoro': 0.003309257659805821,\n",
       " 'x5_swn 80': 0.003294759837131471,\n",
       " 'x3_Other': 0.003269157278008498,\n",
       " 'x0_Lake Nyasa': 0.0031421775161365,\n",
       " 'x3_Water Board': 0.0031008025406982723,\n",
       " 'x6_water board': 0.0030636494592319106,\n",
       " 'x1_Singida': 0.0029368420041715635,\n",
       " 'x1_Manyara': 0.0029330122540382796,\n",
       " 'x5_india mark ii': 0.002866136284467759,\n",
       " 'x0_Lake Victoria': 0.0027823904469289618,\n",
       " 'x1_Pwani': 0.002734250782064761,\n",
       " 'x1_Tanga': 0.002727127810730029,\n",
       " 'x1_Ruvuma': 0.0025923131048415926,\n",
       " 'x6_wug': 0.0025182548168748795,\n",
       " 'x3_WUG': 0.0024265003020270057,\n",
       " 'x1_Rukwa': 0.0024262886641533616,\n",
       " 'x1_Mara': 0.0024156630818005327,\n",
       " 'x1_Mtwara': 0.002270383238713368,\n",
       " 'x3_WUA': 0.002259898511222682,\n",
       " 'x6_parastatal': 0.0022540134327261045,\n",
       " 'x1_Lindi': 0.002129545877427691,\n",
       " 'x6_other': 0.00200056889107877,\n",
       " 'x6_wua': 0.0019601648574418176,\n",
       " 'x11_improved spring': 0.0019453134872379782,\n",
       " 'x10_lake': 0.0019311675947930847,\n",
       " 'x3_Parastatal': 0.0018120251097548119,\n",
       " 'x0_Lake Rukwa': 0.0017226627430307873,\n",
       " 'x9_unknown': 0.001647624554110677,\n",
       " 'x6_water authority': 0.0013042162182290871,\n",
       " 'x3_Private operator': 0.0012477519099418288,\n",
       " 'x1_Shinyanga': 0.0011879178939681494,\n",
       " 'x5_rope pump': 0.0010960524361804226,\n",
       " 'x10_hand dtw': 0.0010251264777026915,\n",
       " 'x1_Mwanza': 0.0009281086131641874,\n",
       " 'x10_other': 0.0009148554706753933,\n",
       " 'x1_Dar es Salaam': 0.0008815838431163078,\n",
       " 'x5_other handpump': 0.0008212733002188912,\n",
       " 'x8_coloured': 0.0007325302290980061,\n",
       " 'x8_fluoride': 0.0006050099113371181,\n",
       " 'x8_milky': 0.0003916491211131336,\n",
       " 'x5_india mark iii': 0.000390484237134238,\n",
       " 'x6_trust': 0.0003863548637296609,\n",
       " 'x3_Trust': 0.0003084610508902011,\n",
       " 'x5_wind-powered': 0.00026144860613627166,\n",
       " 'x3_SWC': 0.000230422567007924,\n",
       " 'x6_other - school': 0.0002197195046807538,\n",
       " 'x11_dam': 9.681045085138105e-05,\n",
       " 'x5_other motorpump': 2.8760156878076666e-06}"
      ]
     },
     "execution_count": 87,
     "metadata": {},
     "output_type": "execute_result"
    }
   ],
   "source": [
    "# zip together the column names with the corresponding feature importances\n",
    "feat_dict = dict(zip(features, importances))\n",
    "# then sort the dictionary by the values in descending order\n",
    "{k: v for k, v in sorted(feat_dict.items(), key=lambda item: item[1], reverse=True)}"
   ]
  },
  {
   "cell_type": "markdown",
   "metadata": {},
   "source": [
    "## Gradient Boosting Classifier"
   ]
  },
  {
   "cell_type": "code",
   "execution_count": 88,
   "metadata": {},
   "outputs": [],
   "source": [
    "gbpipe = Pipeline([\n",
    "    ('ct', CT),\n",
    "    ('gb', GradientBoostingClassifier())\n",
    "])"
   ]
  },
  {
   "cell_type": "code",
   "execution_count": 89,
   "metadata": {},
   "outputs": [
    {
     "data": {
      "text/plain": [
       "Pipeline(steps=[('ct',\n",
       "                 ColumnTransformer(transformers=[('num',\n",
       "                                                  Pipeline(steps=[('scale',\n",
       "                                                                   RobustScaler())]),\n",
       "                                                  [0, 1, 2, 3, 4, 5]),\n",
       "                                                 ('cat',\n",
       "                                                  Pipeline(steps=[('impute',\n",
       "                                                                   SimpleImputer(strategy='most_frequent')),\n",
       "                                                                  ('ohe',\n",
       "                                                                   OneHotEncoder(drop='first',\n",
       "                                                                                 sparse=False))]),\n",
       "                                                  [6, 7, 8, 9, 10, 11, 12, 13,\n",
       "                                                   14, 15, 16, 17])])),\n",
       "                ('gb', GradientBoostingClassifier())])"
      ]
     },
     "execution_count": 89,
     "metadata": {},
     "output_type": "execute_result"
    }
   ],
   "source": [
    "gbpipe.fit(X_train_trim, y_train)"
   ]
  },
  {
   "cell_type": "code",
   "execution_count": 90,
   "metadata": {},
   "outputs": [
    {
     "data": {
      "text/plain": [
       "array([0.77143307, 0.76655655, 0.77316344, 0.77489382, 0.76577002])"
      ]
     },
     "execution_count": 90,
     "metadata": {},
     "output_type": "execute_result"
    }
   ],
   "source": [
    "cross_val_score(gbpipe, X_train_trim, y_train)"
   ]
  },
  {
   "cell_type": "code",
   "execution_count": 91,
   "metadata": {},
   "outputs": [
    {
     "data": {
      "text/plain": [
       "0.7771904986628912"
      ]
     },
     "execution_count": 91,
     "metadata": {},
     "output_type": "execute_result"
    }
   ],
   "source": [
    "gbpipe.score(X_train_trim, y_train)"
   ]
  },
  {
   "cell_type": "code",
   "execution_count": 92,
   "metadata": {},
   "outputs": [
    {
     "data": {
      "text/plain": [
       "0.7659494148735372"
      ]
     },
     "execution_count": 92,
     "metadata": {},
     "output_type": "execute_result"
    }
   ],
   "source": [
    "gbpipe.score(X_test_trim, y_test)"
   ]
  },
  {
   "cell_type": "code",
   "execution_count": 102,
   "metadata": {
    "scrolled": true
   },
   "outputs": [],
   "source": [
    "# get the feature importances from the model\n",
    "importances = gbpipe.steps[1][1].feature_importances_"
   ]
  },
  {
   "cell_type": "code",
   "execution_count": 103,
   "metadata": {
    "scrolled": true
   },
   "outputs": [],
   "source": [
    "# get the column names from the one hot encoded \n",
    "ohe_cols = gbpipe.named_steps['ct'].transformers_[1][1].named_steps['ohe'].get_feature_names()"
   ]
  },
  {
   "cell_type": "code",
   "execution_count": 104,
   "metadata": {},
   "outputs": [],
   "source": [
    "# create a list of all the column names\n",
    "features = list(num_cols)[1:] + list(ohe_cols)"
   ]
  },
  {
   "cell_type": "code",
   "execution_count": 105,
   "metadata": {},
   "outputs": [
    {
     "data": {
      "text/plain": [
       "{'x11_other': 0.15869366473322674,\n",
       " 'construction_year': 0.11899387832058728,\n",
       " 'x9_enough': 0.11451268704149087,\n",
       " 'amount_tsh': 0.09547577775895827,\n",
       " 'x9_insufficient': 0.09126585457880987,\n",
       " 'longitude': 0.06157631168096087,\n",
       " 'x11_communal standpipe multiple': 0.04302652256845092,\n",
       " 'x5_other': 0.0386158694904442,\n",
       " 'latitude': 0.03635824857037429,\n",
       " 'x5_gravity': 0.0279181994042208,\n",
       " 'x9_seasonal': 0.026516619208004345,\n",
       " 'gps_height': 0.021356847045743223,\n",
       " 'population': 0.017165772515494972,\n",
       " 'x10_spring': 0.016649050255343315,\n",
       " 'x11_communal standpipe': 0.01456578360648667,\n",
       " 'x1_Iringa': 0.013305130572591375,\n",
       " 'x10_rainwater harvesting': 0.008804071108328797,\n",
       " 'x6_vwc': 0.0070924055533416646,\n",
       " 'x10_lake': 0.005726925275578433,\n",
       " 'x10_machine dbh': 0.005661394569115168,\n",
       " 'x6_private operator': 0.005357427482933072,\n",
       " 'x11_hand pump': 0.005319108001577952,\n",
       " 'x5_submersible': 0.005313679658691526,\n",
       " 'x1_Shinyanga': 0.0046617457120235765,\n",
       " 'x3_Water Board': 0.004166916324612218,\n",
       " 'x1_Tanga': 0.0038221582948503034,\n",
       " 'x5_nira/tanira': 0.0031345989782549954,\n",
       " 'x1_Singida': 0.0030571303903351417,\n",
       " 'x8_unknown': 0.0026311494649971573,\n",
       " 'x4_True': 0.002554162214507528,\n",
       " 'x0_Lake Nyasa': 0.002391464383935157,\n",
       " 'x3_Water authority': 0.002383316194431039,\n",
       " 'x1_Morogoro': 0.002109339189578832,\n",
       " 'x7_other': 0.002049954860528067,\n",
       " 'x11_improved spring': 0.0020263155233185733,\n",
       " 'x5_mono': 0.001997793040637809,\n",
       " 'x10_shallow well': 0.0019265745984211506,\n",
       " 'x1_Manyara': 0.0016990733844411405,\n",
       " 'x9_unknown': 0.0015136723708089413,\n",
       " 'x7_pay when scheme fails': 0.0013132300984600312,\n",
       " 'x1_Mwanza': 0.001292219633998436,\n",
       " 'x1_Kilimanjaro': 0.0011437291120984588,\n",
       " 'x0_Wami / Ruvu': 0.0010083150317932129,\n",
       " 'x2_True': 0.0009724842768877266,\n",
       " 'x0_Ruvuma / Southern Coast': 0.0009536837230158987,\n",
       " 'x3_Other': 0.0009005633811882862,\n",
       " 'x1_Pwani': 0.0008645025572162299,\n",
       " 'x5_india mark iii': 0.0007989636553742943,\n",
       " 'x0_Pangani': 0.0007679269132760617,\n",
       " 'x10_other': 0.0006400410990589592,\n",
       " 'x0_Rufiji': 0.000639874500540805,\n",
       " 'x3_VWC': 0.0006293697515560406,\n",
       " 'x1_Kigoma': 0.0006208489418376899,\n",
       " 'x1_Mtwara': 0.0005805564984400647,\n",
       " 'x6_other': 0.0005085108866032566,\n",
       " 'x3_WUA': 0.0004727256755222013,\n",
       " 'x7_pay annually': 0.0004312149967943974,\n",
       " 'x10_river': 0.0003307573900203386,\n",
       " 'x0_Lake Rukwa': 0.00032948427800268213,\n",
       " 'x1_Rukwa': 0.00032742694570136446,\n",
       " 'x5_swn 80': 0.0003253039433957084,\n",
       " 'x7_pay per bucket': 0.00031799937310943193,\n",
       " 'x8_soft': 0.0003053691132173776,\n",
       " 'x7_pay monthly': 0.00029132942159006375,\n",
       " 'x8_fluoride': 0.00026337125453524383,\n",
       " 'x6_water board': 0.00024668260975454706,\n",
       " 'x0_Lake Victoria': 0.00018844725603252621,\n",
       " 'x10_hand dtw': 0.0001821000490375328,\n",
       " 'x5_india mark ii': 0.00017349496477263562,\n",
       " 'x3_Trust': 0.00014323111722176272,\n",
       " 'x6_water authority': 0.00012180815788792131,\n",
       " 'x8_salty': 0.00012026198699533074,\n",
       " 'x6_wug': 9.739263238279758e-05,\n",
       " 'x5_rope pump': 8.979907229206475e-05,\n",
       " 'x5_wind-powered': 8.322602689596333e-05,\n",
       " 'x1_Dar es Salaam': 5.021130065304091e-05,\n",
       " 'x8_coloured': 4.107364816406261e-05,\n",
       " 'x6_trust': 3.587479823939211e-05,\n",
       " 'x0_Lake Tanganyika': 0.0,\n",
       " 'x1_Lindi': 0.0,\n",
       " 'x1_Mara': 0.0,\n",
       " 'x1_Ruvuma': 0.0,\n",
       " 'x3_Parastatal': 0.0,\n",
       " 'x3_Private operator': 0.0,\n",
       " 'x3_SWC': 0.0,\n",
       " 'x3_WUG': 0.0,\n",
       " 'x5_other handpump': 0.0,\n",
       " 'x5_other motorpump': 0.0,\n",
       " 'x6_other - school': 0.0,\n",
       " 'x6_parastatal': 0.0,\n",
       " 'x6_wua': 0.0,\n",
       " 'x8_milky': 0.0,\n",
       " 'x11_dam': 0.0}"
      ]
     },
     "execution_count": 105,
     "metadata": {},
     "output_type": "execute_result"
    }
   ],
   "source": [
    "# zip together the column names with the corresponding feature importances\n",
    "feat_dict = dict(zip(features, importances))\n",
    "# then sort the dictionary by the values in descending order\n",
    "{k: v for k, v in sorted(feat_dict.items(), key=lambda item: item[1], reverse=True)}"
   ]
  },
  {
   "cell_type": "markdown",
   "metadata": {},
   "source": [
    "## Random Forest Classifier w/ Grid Search"
   ]
  },
  {
   "cell_type": "markdown",
   "metadata": {},
   "source": [
    "The Gradient boosting classifier took significantly more time to run than the random forest classifier, and still managed to perform worse. For this Reason I decided to run several different random forest models with different hyperparameters using the GridSearchCV method to select the best model. "
   ]
  },
  {
   "cell_type": "code",
   "execution_count": 106,
   "metadata": {},
   "outputs": [],
   "source": [
    "# set up the grid for the different hyperparemeters we want tested\n",
    "grid={\n",
    "    'forest__n_estimators': [50, 100, 200],\n",
    "    'forest__criterion': ['gini', 'entropy'],\n",
    "    'forest__max_features': ['auto', 'sqrt']\n",
    "}"
   ]
  },
  {
   "cell_type": "code",
   "execution_count": 107,
   "metadata": {},
   "outputs": [],
   "source": [
    "# instantiate the grid search for the random forest classifier\n",
    "gsrf = GridSearchCV(rfpipe, grid)"
   ]
  },
  {
   "cell_type": "code",
   "execution_count": 108,
   "metadata": {
    "scrolled": false
   },
   "outputs": [
    {
     "data": {
      "text/plain": [
       "GridSearchCV(estimator=Pipeline(steps=[('ct',\n",
       "                                        ColumnTransformer(transformers=[('num',\n",
       "                                                                         Pipeline(steps=[('scale',\n",
       "                                                                                          RobustScaler())]),\n",
       "                                                                         [0, 1,\n",
       "                                                                          2, 3,\n",
       "                                                                          4,\n",
       "                                                                          5]),\n",
       "                                                                        ('cat',\n",
       "                                                                         Pipeline(steps=[('impute',\n",
       "                                                                                          SimpleImputer(strategy='most_frequent')),\n",
       "                                                                                         ('ohe',\n",
       "                                                                                          OneHotEncoder(drop='first',\n",
       "                                                                                                        sparse=False))]),\n",
       "                                                                         [6, 7,\n",
       "                                                                          8, 9,\n",
       "                                                                          10,\n",
       "                                                                          11,\n",
       "                                                                          12,\n",
       "                                                                          13,\n",
       "                                                                          14,\n",
       "                                                                          15,\n",
       "                                                                          16,\n",
       "                                                                          17])])),\n",
       "                                       ('forest', RandomForestClassifier())]),\n",
       "             param_grid={'forest__criterion': ['gini', 'entropy'],\n",
       "                         'forest__max_features': ['auto', 'sqrt'],\n",
       "                         'forest__n_estimators': [50, 100, 200]})"
      ]
     },
     "execution_count": 108,
     "metadata": {},
     "output_type": "execute_result"
    }
   ],
   "source": [
    "# fit the models to the training data\n",
    "gsrf.fit(X_train_trim, y_train)"
   ]
  },
  {
   "cell_type": "code",
   "execution_count": 114,
   "metadata": {},
   "outputs": [
    {
     "data": {
      "text/plain": [
       "{'forest__criterion': 'entropy',\n",
       " 'forest__max_features': 'auto',\n",
       " 'forest__n_estimators': 200}"
      ]
     },
     "execution_count": 114,
     "metadata": {},
     "output_type": "execute_result"
    }
   ],
   "source": [
    "# get the parameters of the best model\n",
    "gsrf.best_params_"
   ]
  },
  {
   "cell_type": "code",
   "execution_count": 109,
   "metadata": {},
   "outputs": [
    {
     "data": {
      "text/plain": [
       "1.0"
      ]
     },
     "execution_count": 109,
     "metadata": {},
     "output_type": "execute_result"
    }
   ],
   "source": [
    "# accuracy of the best model on training data\n",
    "gsrf.score(X_train_trim, y_train)"
   ]
  },
  {
   "cell_type": "code",
   "execution_count": 110,
   "metadata": {},
   "outputs": [
    {
     "data": {
      "text/plain": [
       "0.8138920347300869"
      ]
     },
     "execution_count": 110,
     "metadata": {},
     "output_type": "execute_result"
    }
   ],
   "source": [
    "# accuracy of the best model on testing data\n",
    "gsrf.score(X_test_trim, y_test)"
   ]
  },
  {
   "cell_type": "code",
   "execution_count": null,
   "metadata": {
    "scrolled": true
   },
   "outputs": [],
   "source": [
    "# cross validation with GridSearchCV model\n",
    "cross_val_score(gsrf, X_train_trim, y_train).mean()"
   ]
  },
  {
   "cell_type": "code",
   "execution_count": null,
   "metadata": {},
   "outputs": [],
   "source": [
    "confusion_matrix()"
   ]
  },
  {
   "cell_type": "code",
   "execution_count": 118,
   "metadata": {
    "scrolled": true
   },
   "outputs": [],
   "source": [
    "# get the feature importances from the model\n",
    "importances = gsrf.best_estimator_.steps[1][1].feature_importances_"
   ]
  },
  {
   "cell_type": "code",
   "execution_count": 119,
   "metadata": {
    "scrolled": true
   },
   "outputs": [],
   "source": [
    "# get the column names from the one hot encoded \n",
    "ohe_cols = gsrf.best_estimator_.named_steps['ct'].transformers_[1][1].named_steps['ohe'].get_feature_names()"
   ]
  },
  {
   "cell_type": "code",
   "execution_count": 120,
   "metadata": {},
   "outputs": [],
   "source": [
    "# create a list of all the column names\n",
    "features = list(num_cols)[1:] + list(ohe_cols)"
   ]
  },
  {
   "cell_type": "code",
   "execution_count": 121,
   "metadata": {},
   "outputs": [
    {
     "data": {
      "text/plain": [
       "{'longitude': 0.12822832519218583,\n",
       " 'latitude': 0.12556104134807258,\n",
       " 'gps_height': 0.11285072170887099,\n",
       " 'construction_year': 0.08961296008115421,\n",
       " 'population': 0.07897119119335892,\n",
       " 'amount_tsh': 0.04380858550181628,\n",
       " 'x9_enough': 0.035841027134507666,\n",
       " 'x11_other': 0.027308908521384092,\n",
       " 'x5_other': 0.01878696145545967,\n",
       " 'x9_insufficient': 0.01660652824540131,\n",
       " 'x11_communal standpipe': 0.01615057161464257,\n",
       " 'x5_gravity': 0.011648955654213805,\n",
       " 'x4_True': 0.011046704143610371,\n",
       " 'x9_seasonal': 0.009792789360433594,\n",
       " 'x11_communal standpipe multiple': 0.009780638138882426,\n",
       " 'x10_spring': 0.009453260905946914,\n",
       " 'x6_vwc': 0.008992173321481008,\n",
       " 'x3_VWC': 0.008512448736550974,\n",
       " 'x11_hand pump': 0.008308399377557538,\n",
       " 'x7_pay monthly': 0.007762625562872999,\n",
       " 'x8_soft': 0.007529281268935911,\n",
       " 'x10_river': 0.0075111857261574615,\n",
       " 'x1_Iringa': 0.007315216492270384,\n",
       " 'x7_pay per bucket': 0.007256761786029616,\n",
       " 'x7_other': 0.007162542022989538,\n",
       " 'x10_machine dbh': 0.007157396398893314,\n",
       " 'x2_True': 0.0069034660694536195,\n",
       " 'x10_shallow well': 0.006257447636690014,\n",
       " 'x0_Pangani': 0.005758305579564845,\n",
       " 'x8_unknown': 0.005703493249099512,\n",
       " 'x5_submersible': 0.005191709386195449,\n",
       " 'x7_pay when scheme fails': 0.004690711239596915,\n",
       " 'x0_Rufiji': 0.004622000902638072,\n",
       " 'x8_salty': 0.0045730215139648525,\n",
       " 'x0_Ruvuma / Southern Coast': 0.004440011171189718,\n",
       " 'x5_nira/tanira': 0.004402158827482618,\n",
       " 'x0_Lake Tanganyika': 0.004382785025714799,\n",
       " 'x7_pay annually': 0.0043709685725311104,\n",
       " 'x3_Water Board': 0.004248950863686544,\n",
       " 'x3_Water authority': 0.004086288390665341,\n",
       " 'x1_Kigoma': 0.003967917918239042,\n",
       " 'x0_Wami / Ruvu': 0.003942276700207931,\n",
       " 'x1_Kilimanjaro': 0.003855519842073298,\n",
       " 'x10_rainwater harvesting': 0.0038177003223555327,\n",
       " 'x3_Other': 0.0036737584693008174,\n",
       " 'x1_Morogoro': 0.0036003781413990396,\n",
       " 'x6_private operator': 0.0035890484490228606,\n",
       " 'x6_water board': 0.003427420846581068,\n",
       " 'x5_swn 80': 0.0032139625893314303,\n",
       " 'x1_Singida': 0.0032074059916472213,\n",
       " 'x0_Lake Nyasa': 0.003073050690749911,\n",
       " 'x1_Tanga': 0.0030631138930354777,\n",
       " 'x1_Manyara': 0.0030609293030493348,\n",
       " 'x5_mono': 0.003002773960635728,\n",
       " 'x1_Pwani': 0.0029822017278040747,\n",
       " 'x6_wug': 0.0028794809045651834,\n",
       " 'x5_india mark ii': 0.002848582363426325,\n",
       " 'x1_Ruvuma': 0.0027528888821965257,\n",
       " 'x3_WUA': 0.0027201036612341943,\n",
       " 'x1_Mtwara': 0.002707628741482901,\n",
       " 'x0_Lake Victoria': 0.0026981001128354837,\n",
       " 'x3_WUG': 0.0026230284529206982,\n",
       " 'x6_wua': 0.0024609087419405202,\n",
       " 'x1_Mara': 0.0024389186332379647,\n",
       " 'x1_Rukwa': 0.002422981740041676,\n",
       " 'x6_parastatal': 0.0022907608419079697,\n",
       " 'x10_lake': 0.0021135422464062304,\n",
       " 'x6_other': 0.0020666020094485538,\n",
       " 'x1_Lindi': 0.0020508144741414416,\n",
       " 'x3_Parastatal': 0.0019104954103269496,\n",
       " 'x1_Shinyanga': 0.0018895977345267476,\n",
       " 'x0_Lake Rukwa': 0.0017428944580148112,\n",
       " 'x9_unknown': 0.0016994896831254286,\n",
       " 'x11_improved spring': 0.0016002356080667506,\n",
       " 'x3_Private operator': 0.0014251077908393592,\n",
       " 'x6_water authority': 0.001295157629462868,\n",
       " 'x1_Mwanza': 0.0012337190387399944,\n",
       " 'x5_rope pump': 0.0011248800623723867,\n",
       " 'x10_hand dtw': 0.0010292196245324336,\n",
       " 'x1_Dar es Salaam': 0.0009325348990208816,\n",
       " 'x10_other': 0.0008667290651269627,\n",
       " 'x5_other handpump': 0.0007167453003931297,\n",
       " 'x8_coloured': 0.0006570601595736388,\n",
       " 'x8_fluoride': 0.0005800124970617776,\n",
       " 'x8_milky': 0.0003820100135655791,\n",
       " 'x6_trust': 0.0003718363698525211,\n",
       " 'x5_india mark iii': 0.00033582045240430935,\n",
       " 'x3_Trust': 0.00028631987539294704,\n",
       " 'x5_wind-powered': 0.0002561875294262488,\n",
       " 'x3_SWC': 0.00023205822045808855,\n",
       " 'x6_other - school': 0.00023164594463378468,\n",
       " 'x11_dam': 5.6457029450590484e-05,\n",
       " 'x5_other motorpump': 3.465630260196594e-06}"
      ]
     },
     "execution_count": 121,
     "metadata": {},
     "output_type": "execute_result"
    }
   ],
   "source": [
    "# zip together the column names with the corresponding feature importances\n",
    "feat_dict = dict(zip(features, importances))\n",
    "# then sort the dictionary by the values in descending order\n",
    "{k: v for k, v in sorted(feat_dict.items(), key=lambda item: item[1], reverse=True)}"
   ]
  },
  {
   "cell_type": "code",
   "execution_count": null,
   "metadata": {},
   "outputs": [],
   "source": []
  },
  {
   "cell_type": "markdown",
   "metadata": {},
   "source": [
    "## Visualizations"
   ]
  },
  {
   "cell_type": "code",
   "execution_count": 136,
   "metadata": {
    "scrolled": true
   },
   "outputs": [
    {
     "name": "stderr",
     "output_type": "stream",
     "text": [
      "C:\\Users\\TWood\\anaconda3\\envs\\learn-env\\lib\\site-packages\\seaborn\\_decorators.py:36: FutureWarning: Pass the following variables as keyword args: x, y. From version 0.12, the only valid positional argument will be `data`, and passing other arguments without an explicit keyword will result in an error or misinterpretation.\n",
      "  warnings.warn(\n"
     ]
    },
    {
     "data": {
      "text/plain": [
       "Text(0, 0.5, '')"
      ]
     },
     "execution_count": 136,
     "metadata": {},
     "output_type": "execute_result"
    },
    {
     "data": {
      "image/png": "[encoded data removed]",
      "text/plain": [
       "<Figure size 864x576 with 1 Axes>"
      ]
     },
     "metadata": {
      "needs_background": "light"
     },
     "output_type": "display_data"
    }
   ],
   "source": [
    "fig, ax = plt.subplots(figsize=(12, 8))\n",
    "sns.set_context('poster')\n",
    "sns.barplot(df_zero['status_group'], df_zero['construction_year'], ax=ax, ci=None)\n",
    "ax.set_ylim(ymin=1900, ymax=2000)\n",
    "ax.set_title('Year of Construction')\n",
    "ax.set_xticklabels(['Functional', 'Non-Functional', 'Needs Repair'])\n",
    "ax.set_xlabel('')\n",
    "ax.set_ylabel('');"
   ]
  },
  {
   "cell_type": "code",
   "execution_count": 140,
   "metadata": {},
   "outputs": [
    {
     "name": "stderr",
     "output_type": "stream",
     "text": [
      "C:\\Users\\TWood\\anaconda3\\envs\\learn-env\\lib\\site-packages\\seaborn\\_decorators.py:36: FutureWarning: Pass the following variables as keyword args: x, y. From version 0.12, the only valid positional argument will be `data`, and passing other arguments without an explicit keyword will result in an error or misinterpretation.\n",
      "  warnings.warn(\n"
     ]
    },
    {
     "data": {
      "image/png": "[encoded data removed]",
      "text/plain": [
       "<Figure size 864x576 with 1 Axes>"
      ]
     },
     "metadata": {
      "needs_background": "light"
     },
     "output_type": "display_data"
    }
   ],
   "source": [
    "fig, ax = plt.subplots(figsize=(12, 8))\n",
    "sns.barplot(df_zero['status_group'], df_zero['gps_height'], ax=ax, ci=None)\n",
    "ax.set_title('Elevation')\n",
    "ax.set_xticklabels(['Functional', 'Non-Functional', 'Needs Repair'])\n",
    "ax.set_xlabel('')\n",
    "ax.set_ylabel('');"
   ]
  },
  {
   "cell_type": "markdown",
   "metadata": {},
   "source": [
    "## Recommendations"
   ]
  },
  {
   "cell_type": "code",
   "execution_count": null,
   "metadata": {},
   "outputs": [],
   "source": []
  },
  {
   "cell_type": "markdown",
   "metadata": {},
   "source": [
    "## Next Steps"
   ]
  },
  {
   "cell_type": "markdown",
   "metadata": {},
   "source": [
    "Mention how you had to drop the rows with all zeroes and how in the future you could improve with better data cleaning and data collection."
   ]
  },
  {
   "cell_type": "markdown",
   "metadata": {},
   "source": [
    "Mention how a lot of this data didn't pass the sniff test"
   ]
  },
  {
   "cell_type": "code",
   "execution_count": null,
   "metadata": {
    "scrolled": false
   },
   "outputs": [],
   "source": [
    "# The max depth that a SWN 80 pump is supposed to go is 40 meters\n",
    "X[X['amount_tsh'] > 100][X['extraction_type_group'] == 'swn 80']"
   ]
  },
  {
   "cell_type": "markdown",
   "metadata": {},
   "source": [
    "Mention how several of theses"
   ]
  },
  {
   "cell_type": "code",
   "execution_count": null,
   "metadata": {},
   "outputs": [],
   "source": [
    "# several of these categories were entered incorrectly, \n",
    "# and many were completely ambiguous\n",
    "X['funder'].replace(['Rc', 'Roman'], 'Rc Church', inplace=True)\n",
    "X['funder'].replace('Private Individual', 'Private', inplace=True)\n",
    "X['funder'].replace(['Finw', 'Fw'], 'Fini Water', inplace=True)\n",
    "# Jaica and Jica are alternative spellings of Japan International Cooperation Agency\n",
    "X['funder'].replace('Jaica', 'Jica', inplace=True)\n",
    "# Kkkt is a church in Tanzania\n",
    "X['funder'].replace('Kkkt_makwale', 'Kkkt', inplace=True)\n",
    "X['funder'].replace('Nethalan', 'Netherlands', inplace=True)\n",
    "X['funder'].replace(['Rwssp', 'Rural Water Supply And Sanitat'], 'Rural Water Supply & Sanitation', inplace=True)\n",
    "X['funder'].replace('Oxfarm', 'Oxfam', inplace=True)\n",
    "X['funder'].replace('He', 'Hesawa', inplace=True)\n",
    "# Norwegian Agency for Development Cooperation\n",
    "X['funder'].replace('No', 'Norad', inplace=True)\n",
    "# Spanish acronym for Engineers without borders\n",
    "X['funder'].replace('Isf', 'Ewb', inplace=True)\n",
    "# Dwsp is district water and sanitation\n",
    "# X['funder'].replace('Dwsp', ___)\n",
    "X['funder'].replace('Mkinga Distric Coun', 'District Council', inplace=True)\n",
    "X['funder'].replace('Ces (gmbh)', 'Ces(gmbh)').value_counts().head(60)"
   ]
  },
  {
   "cell_type": "markdown",
   "metadata": {},
   "source": [
    "Mention some possible feature engineering"
   ]
  },
  {
   "cell_type": "code",
   "execution_count": null,
   "metadata": {},
   "outputs": [],
   "source": []
  },
  {
   "cell_type": "markdown",
   "metadata": {},
   "source": [
    "# Workbook Ramblings"
   ]
  },
  {
   "cell_type": "markdown",
   "metadata": {},
   "source": [
    "### Rabbithole Thought on Zeroes"
   ]
  },
  {
   "cell_type": "code",
   "execution_count": null,
   "metadata": {},
   "outputs": [],
   "source": [
    "((X['construction_year'] == 0) & (X['population'] == 0)).sum()"
   ]
  },
  {
   "cell_type": "code",
   "execution_count": null,
   "metadata": {},
   "outputs": [],
   "source": [
    "((X['construction_year'] == 0) & (X['population'] == 0) & (X['amount_tsh'] == 0)).sum()"
   ]
  },
  {
   "cell_type": "code",
   "execution_count": null,
   "metadata": {},
   "outputs": [],
   "source": [
    "X['population'].value_counts()"
   ]
  },
  {
   "cell_type": "code",
   "execution_count": null,
   "metadata": {},
   "outputs": [],
   "source": [
    "((X['construction_year'] == 0) & (X['population'] == 0) & (X['amount_tsh'] == 0) & (X['gps_height'] == 0)).sum()"
   ]
  },
  {
   "cell_type": "code",
   "execution_count": null,
   "metadata": {},
   "outputs": [],
   "source": [
    "nonfunct = df['status_group'] == 'non functional'"
   ]
  },
  {
   "cell_type": "code",
   "execution_count": null,
   "metadata": {},
   "outputs": [],
   "source": [
    "((X['construction_year'] == 0) & (X['population'] == 0) & (X['amount_tsh'] == 0) & (X['gps_height'] == 0) & nonfunct).sum()"
   ]
  },
  {
   "cell_type": "code",
   "execution_count": null,
   "metadata": {},
   "outputs": [],
   "source": [
    "functional = ((df['status_group'] == 'functional') | (df['status_group'] == 'functional needs repair'))"
   ]
  },
  {
   "cell_type": "code",
   "execution_count": null,
   "metadata": {},
   "outputs": [],
   "source": [
    "((X['construction_year'] == 0) & (X['population'] == 0) & (X['amount_tsh'] == 0) & (X['gps_height'] == 0) & functional).sum()"
   ]
  },
  {
   "cell_type": "code",
   "execution_count": null,
   "metadata": {},
   "outputs": [],
   "source": [
    "11761 / 7907"
   ]
  },
  {
   "cell_type": "code",
   "execution_count": null,
   "metadata": {},
   "outputs": [],
   "source": [
    "functional.sum() / nonfunct.sum()"
   ]
  },
  {
   "cell_type": "markdown",
   "metadata": {},
   "source": [
    "### Constuction Year"
   ]
  },
  {
   "cell_type": "code",
   "execution_count": null,
   "metadata": {},
   "outputs": [],
   "source": [
    "(X['construction_year'] == 0).sum()"
   ]
  },
  {
   "cell_type": "code",
   "execution_count": null,
   "metadata": {},
   "outputs": [],
   "source": [
    "# nothing below 1960, possibly bin the construction by decade\n",
    "X['construction_year'].value_counts()."
   ]
  },
  {
   "cell_type": "code",
   "execution_count": null,
   "metadata": {},
   "outputs": [],
   "source": [
    "X[X['construction_year'] == 0].head()"
   ]
  },
  {
   "cell_type": "markdown",
   "metadata": {},
   "source": [
    "### Population cleaning"
   ]
  },
  {
   "cell_type": "markdown",
   "metadata": {},
   "source": [
    "### Total Static Head Cleaning"
   ]
  },
  {
   "cell_type": "code",
   "execution_count": null,
   "metadata": {
    "scrolled": true
   },
   "outputs": [],
   "source": [
    "# almost two thirds of the data is 0, unlikely\n",
    "(X['amount_tsh'] == 0).sum()"
   ]
  },
  {
   "cell_type": "code",
   "execution_count": null,
   "metadata": {},
   "outputs": [],
   "source": [
    "# if it is surface level, it makes sense for the tsh to be zero\n",
    "((X['source_class'] == 'surface') & (X['amount_tsh'] == 0)).sum()"
   ]
  },
  {
   "cell_type": "code",
   "execution_count": null,
   "metadata": {},
   "outputs": [],
   "source": [
    "# but sometimes, even surface water doesn't have a tsh of zero\n",
    "((X['source_class'] == 'surface') & (X['amount_tsh'] != 0)).sum()"
   ]
  },
  {
   "cell_type": "code",
   "execution_count": null,
   "metadata": {},
   "outputs": [],
   "source": [
    "functional = ((df['status_group'] == 'functional') | (df['status_group'] == 'functional needs repair'))"
   ]
  },
  {
   "cell_type": "code",
   "execution_count": null,
   "metadata": {},
   "outputs": [],
   "source": [
    "nonfunct = df['status_group'] == 'non functional'"
   ]
  },
  {
   "cell_type": "code",
   "execution_count": null,
   "metadata": {},
   "outputs": [],
   "source": [
    "ztsh = df['amount_tsh'] == 0"
   ]
  },
  {
   "cell_type": "code",
   "execution_count": null,
   "metadata": {
    "scrolled": true
   },
   "outputs": [],
   "source": [
    "# while many of these probably don't make sense\n",
    "df[functional & ztsh].shape"
   ]
  },
  {
   "cell_type": "code",
   "execution_count": null,
   "metadata": {},
   "outputs": [],
   "source": [
    "# these definitely make sense\n",
    "df[nonfunct & ztsh].shape"
   ]
  },
  {
   "cell_type": "code",
   "execution_count": null,
   "metadata": {
    "scrolled": true
   },
   "outputs": [],
   "source": [
    "\n",
    "X.groupby('extraction_type_group')['amount_tsh'].mean()"
   ]
  },
  {
   "cell_type": "code",
   "execution_count": null,
   "metadata": {
    "scrolled": false
   },
   "outputs": [],
   "source": [
    "nosh = X[X['amount_tsh'] == 0]\n",
    "nosh['region'].value_counts()"
   ]
  },
  {
   "cell_type": "code",
   "execution_count": null,
   "metadata": {
    "scrolled": true
   },
   "outputs": [],
   "source": [
    "X['region'].value_counts()"
   ]
  },
  {
   "cell_type": "code",
   "execution_count": null,
   "metadata": {
    "scrolled": true
   },
   "outputs": [],
   "source": [
    "nosh['region'].value_counts()[:]/X['region'].value_counts()[:]"
   ]
  },
  {
   "cell_type": "markdown",
   "metadata": {},
   "source": [
    "### Elevation"
   ]
  },
  {
   "cell_type": "code",
   "execution_count": null,
   "metadata": {
    "scrolled": true
   },
   "outputs": [],
   "source": [
    "X.groupby('basin')['gps_height'].mean()"
   ]
  },
  {
   "cell_type": "code",
   "execution_count": null,
   "metadata": {},
   "outputs": [],
   "source": [
    "X.corr()"
   ]
  },
  {
   "cell_type": "code",
   "execution_count": null,
   "metadata": {},
   "outputs": [],
   "source": [
    "X[X['gps_height'] == 0]['construction_year'].value_counts()"
   ]
  },
  {
   "cell_type": "code",
   "execution_count": null,
   "metadata": {},
   "outputs": [],
   "source": [
    "X['construction_year'].value_counts()"
   ]
  },
  {
   "cell_type": "code",
   "execution_count": null,
   "metadata": {},
   "outputs": [],
   "source": [
    "df[df['gps_height'] ==0]['date_recorded'].dt.month.value_counts()"
   ]
  },
  {
   "cell_type": "code",
   "execution_count": null,
   "metadata": {},
   "outputs": [],
   "source": [
    "df['date_recorded'].dt.year.value_counts()"
   ]
  },
  {
   "cell_type": "code",
   "execution_count": null,
   "metadata": {},
   "outputs": [],
   "source": [
    "notzero = X[X['gps_height'] != 0]"
   ]
  },
  {
   "cell_type": "code",
   "execution_count": null,
   "metadata": {},
   "outputs": [],
   "source": [
    "notzero.groupby('ward')['gps_height'].mean()"
   ]
  },
  {
   "cell_type": "code",
   "execution_count": null,
   "metadata": {},
   "outputs": [],
   "source": [
    "notzero.groupby('lga')['gps_height'].mean()"
   ]
  },
  {
   "cell_type": "code",
   "execution_count": null,
   "metadata": {},
   "outputs": [],
   "source": [
    "notzero.groupby('region')['gps_height'].mean()"
   ]
  },
  {
   "cell_type": "code",
   "execution_count": null,
   "metadata": {},
   "outputs": [],
   "source": []
  }
 ],
 "metadata": {
  "kernelspec": {
   "display_name": "Python (learn-env)",
   "language": "python",
   "name": "learn-env"
  },
  "language_info": {
   "codemirror_mode": {
    "name": "ipython",
    "version": 3
   },
   "file_extension": ".py",
   "mimetype": "text/x-python",
   "name": "python",
   "nbconvert_exporter": "python",
   "pygments_lexer": "ipython3",
   "version": "3.8.5"
  }
 },
 "nbformat": 4,
 "nbformat_minor": 4
}
